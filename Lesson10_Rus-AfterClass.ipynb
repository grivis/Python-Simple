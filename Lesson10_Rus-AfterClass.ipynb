{
 "cells": [
  {
   "cell_type": "markdown",
   "metadata": {},
   "source": [
    "<h1 style=\"color:red;\">Cловари в Питоне. Продолжение</h1>"
   ]
  },
  {
   "cell_type": "markdown",
   "metadata": {},
   "source": [
    "Словари в Питоне могут быть использованы как и обычные \"книжные\" словари - для перевода слов и текстов с одного человеческого языка на другой. Для этого необходимо составить списки слов на разных языках, а потом объединить их в словари мо мере надобности."
   ]
  },
  {
   "cell_type": "markdown",
   "metadata": {},
   "source": [
    "<h2 style=\"color:darkgreen;\">Cписки Сводеша</h2>"
   ]
  },
  {
   "cell_type": "markdown",
   "metadata": {},
   "source": [
    "В прошлом веке американский лингвист Моррис Сводеш предложил создать списки из 200 базовых слов для всех языков. Эти списки используются, например, для оценки степени родства языков - насколько один язык близок другому. С тех пор списки были составлены для большинства языков мира. Причем слова под одним и тем же номером обозначают одно и то же понятие."
   ]
  },
  {
   "cell_type": "markdown",
   "metadata": {},
   "source": [
    "Вот, к примеру, некоторые слова из списков Сводеша для русского, английского, испанского и греческого языков:"
   ]
  },
  {
   "cell_type": "code",
   "execution_count": 2,
   "metadata": {
    "collapsed": true
   },
   "outputs": [],
   "source": [
    "nlst = [71, 72, 73, 74, 75, 76, 77, 78, 79, 80]\n",
    "grelst = ['μαλλιά', 'κεφάλι', 'αυτί', 'μάτι', 'μύτη', 'στόμα', 'δόντι', 'γλώσσα', 'νύχι', 'πόδι']\n",
    "englst = ['hair', 'head', 'ear', 'eye', 'nose', 'mouth', 'tooth', 'tongue', 'fingernail', 'foot']\n",
    "ruslst = ['волосы', 'голова', 'ухо', 'глаз', 'нос', 'рот', 'зуб', 'язык', 'ноготь', 'стопа' ]\n",
    "spalst = ['cabello', 'cabeza','oreja','ojo','nariz','boca','diente','lengua','uña','pie', ]"
   ]
  },
  {
   "cell_type": "markdown",
   "metadata": {},
   "source": [
    "Теперь мы можем составлять словари для автоматического перевода слов с одного из приведенных языков на другой. Для этого используем, как и на прошлом уроке, функции dict() и zip(). Пример:"
   ]
  },
  {
   "cell_type": "code",
   "execution_count": 3,
   "metadata": {
    "collapsed": false,
    "scrolled": true
   },
   "outputs": [],
   "source": [
    "engrus = dict(zip(englst, ruslst))"
   ]
  },
  {
   "cell_type": "markdown",
   "metadata": {},
   "source": [
    "Теперь мы можем написать программу, которая запрашивает у пользователя английское слово и печатает эквивалентное русское."
   ]
  },
  {
   "cell_type": "code",
   "execution_count": 6,
   "metadata": {
    "collapsed": false
   },
   "outputs": [
    {
     "name": "stdout",
     "output_type": "stream",
     "text": [
      "Enter the English word nose\n",
      "нос\n"
     ]
    }
   ],
   "source": [
    "engword = input(\"Enter the English word \")\n",
    "rusword = engrus[engword]\n",
    "print(rusword)"
   ]
  },
  {
   "cell_type": "markdown",
   "metadata": {},
   "source": [
    "А теперь составим испанско-греческий словарь и напишем программу перевода:"
   ]
  },
  {
   "cell_type": "code",
   "execution_count": null,
   "metadata": {
    "collapsed": false
   },
   "outputs": [],
   "source": [
    "spangre = dict(zip(spalst, grelst))\n",
    "spaword = input(\"Enter a Spanish word \")\n",
    "greword = spangre[spaword]\n",
    "print(greword)"
   ]
  },
  {
   "cell_type": "markdown",
   "metadata": {},
   "source": [
    "Но есть одна проблема. Наши словари содержат всего по десять слов из каждого языка. Если пользователь введет слово, которого нет в словаре, программа сообщит об ошибке. Как обойти ошибку и выдать пользователю сообщение, что такого слова в словаре нет? Есть два варианта решения: использовать метод get() или оператор try:"
   ]
  },
  {
   "cell_type": "code",
   "execution_count": 4,
   "metadata": {
    "collapsed": false
   },
   "outputs": [
    {
     "name": "stdout",
     "output_type": "stream",
     "text": [
      "Enter English word: birthday\n",
      "Извините, нет такого слова\n"
     ]
    }
   ],
   "source": [
    "engword = input('Enter English word: ')\n",
    "rusword = engrus.get(engword, 'Извините, нет такого слова')\n",
    "print(rusword)"
   ]
  },
  {
   "cell_type": "markdown",
   "metadata": {},
   "source": [
    "Вариант решения с оператором try:"
   ]
  },
  {
   "cell_type": "code",
   "execution_count": 6,
   "metadata": {
    "collapsed": false
   },
   "outputs": [
    {
     "name": "stdout",
     "output_type": "stream",
     "text": [
      "Spanish word ojo\n",
      "μάτι\n"
     ]
    }
   ],
   "source": [
    "spangre = dict(zip(spalst, grelst))\n",
    "word = input('Spanish word ')\n",
    "try:\n",
    "    greword = spangre[word]\n",
    "except:\n",
    "    greword = 'Sorry, no such word'\n",
    "print(greword)"
   ]
  },
  {
   "cell_type": "markdown",
   "metadata": {},
   "source": [
    "Конструкция операторов try-except позволяет перехватить любую ошибку и предусмотреть обход. При этом программа продолжит работу. Если не предусмотреть обход, программа остановится."
   ]
  },
  {
   "cell_type": "code",
   "execution_count": null,
   "metadata": {
    "collapsed": true
   },
   "outputs": [],
   "source": []
  },
  {
   "cell_type": "markdown",
   "metadata": {},
   "source": [
    "Теперь вернемся к нашим словарям. Как написать программу, которая будет печатать слова по их номеру в списке Сводеша?"
   ]
  },
  {
   "cell_type": "code",
   "execution_count": 8,
   "metadata": {
    "collapsed": false
   },
   "outputs": [
    {
     "name": "stdout",
     "output_type": "stream",
     "text": [
      "Enter a number between 71 and 80. 74\n",
      "eye ojo μάτι глаз\n"
     ]
    }
   ],
   "source": [
    "numeng = dict(zip(nlst, englst))\n",
    "numspa = dict(zip(nlst, spalst))\n",
    "numgre = dict(zip(nlst, grelst))\n",
    "numrus = dict(zip(nlst, ruslst))\n",
    "num = int(input(\"Enter a number between 71 and 80. \"))\n",
    "worde = numeng[num]\n",
    "words = numspa[num]\n",
    "wordg = numgre[num]\n",
    "wordr = numrus[num]\n",
    "print(worde, words, wordg, wordr)         "
   ]
  },
  {
   "cell_type": "markdown",
   "metadata": {},
   "source": [
    "А теперь изменим программу. Будем вводить английское слово, программа определит его номер в списке и напечатает значения этого слова на остальных языках:"
   ]
  },
  {
   "cell_type": "code",
   "execution_count": 9,
   "metadata": {
    "collapsed": false
   },
   "outputs": [
    {
     "name": "stdout",
     "output_type": "stream",
     "text": [
      "Enter a English word nose\n",
      "nose nariz μύτη нос\n"
     ]
    }
   ],
   "source": [
    "engnum = dict(zip(englst, nlst))\n",
    "numeng = dict(zip(nlst, englst))\n",
    "numspa = dict(zip(nlst, spalst))\n",
    "numgre = dict(zip(nlst, grelst))\n",
    "numrus = dict(zip(nlst, ruslst))\n",
    "worde = input(\"Enter a English word \")\n",
    "num = engnum[worde]\n",
    "words = numspa[num]\n",
    "wordg = numgre[num]\n",
    "wordr = numrus[num]\n",
    "print(worde, words, wordg, wordr)         "
   ]
  },
  {
   "cell_type": "markdown",
   "metadata": {},
   "source": [
    "<h2 style=\"color:darkgreen;\">Множества,подмножества, пересечение множеств</h2>"
   ]
  },
  {
   "cell_type": "markdown",
   "metadata": {},
   "source": [
    "Множество A является подмножеством множества B, если все элементы, принадлежащие A , также принадлежит B."
   ]
  },
  {
   "cell_type": "markdown",
   "metadata": {},
   "source": [
    "<img src=\"Venn_A_intersect_B.png\" width=\"40%\">"
   ]
  },
  {
   "cell_type": "markdown",
   "metadata": {},
   "source": [
    "Пересече́ние мно́жеств — это множество, которому принадлежат те и только те элементы, которые одновременно принадлежат всем данным множествам."
   ]
  },
  {
   "cell_type": "markdown",
   "metadata": {},
   "source": [
    "<img src=\"Greek,_Latin_and_Cyrillic_letters.png\" width=\"40%\">"
   ]
  },
  {
   "cell_type": "markdown",
   "metadata": {},
   "source": [
    "В языке Питон определить подмножества и пересечения множеств можно с помощью методов:\n",
    "    set.issubset(other) или set <= other\n",
    "    set.intersection(other, ...) или set & other\n",
    "Методы возвращают логические значения True или False в зависмости от соотношений между множествами."
   ]
  },
  {
   "cell_type": "markdown",
   "metadata": {},
   "source": [
    "Зачем нам это нужно? Используя понятия множества, мы можем написать программу, которая автоматически определит, на каком языке написано слово. И автоматически подберет словарь. Для этого нужно вспомнить, что английский, греческий и русский языки используют разные алфавиты. Если множество букв, из которого составлено слово, является подмножеством множества букв греческого алфавита, то оно написано по гречески. И так далее."
   ]
  },
  {
   "cell_type": "markdown",
   "metadata": {},
   "source": [
    "Создадим множества букв трех алфавитов:"
   ]
  },
  {
   "cell_type": "code",
   "execution_count": 13,
   "metadata": {
    "collapsed": true
   },
   "outputs": [],
   "source": [
    "gre = 'αβγδϵζηθικλμνξοπρστυϕχψω'\n",
    "eng = 'abcdefghijklmnopqrstuvwxyz'\n",
    "rus = 'абвгдеёжзийклмнопрстуфкцчшщъыьэюя'\n",
    "greset = set(gre)\n",
    "engset = set(eng)\n",
    "russet = set(rus)"
   ]
  },
  {
   "cell_type": "markdown",
   "metadata": {},
   "source": [
    "Теперь можно написать программу, которая сама определит, на каком языке написано слово:"
   ]
  },
  {
   "cell_type": "code",
   "execution_count": 15,
   "metadata": {
    "collapsed": true
   },
   "outputs": [],
   "source": [
    "#Your code here"
   ]
  },
  {
   "cell_type": "code",
   "execution_count": null,
   "metadata": {
    "collapsed": true
   },
   "outputs": [],
   "source": []
  }
 ],
 "metadata": {
  "kernelspec": {
   "display_name": "Python 3",
   "language": "python",
   "name": "python3"
  },
  "language_info": {
   "codemirror_mode": {
    "name": "ipython",
    "version": 3
   },
   "file_extension": ".py",
   "mimetype": "text/x-python",
   "name": "python",
   "nbconvert_exporter": "python",
   "pygments_lexer": "ipython3",
   "version": "3.4.3+"
  }
 },
 "nbformat": 4,
 "nbformat_minor": 1
}
