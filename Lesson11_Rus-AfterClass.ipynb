{
 "cells": [
  {
   "cell_type": "markdown",
   "metadata": {},
   "source": [
    "<h1 style=\"color:red;\">Генератор паролей</h1>"
   ]
  },
  {
   "cell_type": "markdown",
   "metadata": {},
   "source": [
    "Современный пользователь Сети часто регистрируется в разных онлайновых сервисах. Чтобы уберечься от разных злоумышленников, важно подобрать надежный пароль, который невозможно угадат. Ни в коем случае нельзя использовать словарные слова (home, city, street...), имена людей, даты рождения и т.п. Самый лучший пароль - случайная последовательность больших и маленьких букв, цифр, различных знаков. Пароль должен быть длиннее 10 знаков. Чтобы в нужный момент не тратить время на придумывание хорошего пароля, напишем программу - генератор паролей."
   ]
  },
  {
   "cell_type": "markdown",
   "metadata": {},
   "source": [
    "Прежде всего, создадим строки-шаблоны символов, которые будем использовать для составления наших паролей."
   ]
  },
  {
   "cell_type": "code",
   "execution_count": 7,
   "metadata": {
    "collapsed": true
   },
   "outputs": [],
   "source": [
    "caps = 'ABCDEFGHIJKLMNOPQRSTUVWXYZ'\n",
    "lower = \"abcdefghijklmnopqrstuvwxyz\"\n",
    "diggs = \"0123456789\"\n",
    "signs = \"£~$%&*+=_-\"\n"
   ]
  },
  {
   "cell_type": "markdown",
   "metadata": {},
   "source": [
    "Теперь нам нужно вспомнить, как работает генератор случайных чисел. Его будем использовать в нашей программе несколько раз, выбирая случайные буквы, цифры, знаки..."
   ]
  },
  {
   "cell_type": "code",
   "execution_count": 11,
   "metadata": {
    "collapsed": false
   },
   "outputs": [
    {
     "name": "stdout",
     "output_type": "stream",
     "text": [
      "Gp4=\n"
     ]
    }
   ],
   "source": [
    "import random\n",
    "random.seed()\n",
    "x = random.randrange(0,26)\n",
    "xxxx = random.randrange(0,26)\n",
    "xx = random.randrange(0,10)\n",
    "xxx = random.randrange(0,10)\n",
    "string = caps[x] + lower[xxxx] + diggs[xx] + signs[xxx]\n",
    "print(string )"
   ]
  },
  {
   "cell_type": "markdown",
   "metadata": {},
   "source": [
    "Мы не хотим, чтобы буквы и знаки в пароле повторялись - от этого пароль будет легче угадать! Поэтому будем использовать множества. Напомню одно из основных свойств множества - они состоят только из уникальных элементов. Мы будем генерировать случайные числа, выбирать буквы и знаки из шаблонов, которые мы подготовили раньше, и складывать их во множества. Если один и тот же символ встретиться дважды - множество его не примет! Будем повторять операцию до тех пор, пока размер нашего множества не станет равным требуемой длине пароля - 10 символов или более..."
   ]
  },
  {
   "cell_type": "code",
   "execution_count": 21,
   "metadata": {
    "collapsed": false
   },
   "outputs": [
    {
     "name": "stdout",
     "output_type": "stream",
     "text": [
      "W9s+-38Q%dXj\n"
     ]
    }
   ],
   "source": [
    "import random\n",
    "random.seed()\n",
    "x = random.randrange(0,26)\n",
    "xxxx = random.randrange(0,26)\n",
    "xx = random.randrange(0,10)\n",
    "xxx = random.randrange(0,10)\n",
    "length = 12\n",
    "letterset = set()\n",
    "while len(letterset) < length:\n",
    "    x = random.randrange(0,26)\n",
    "    letterset.add(caps[x])\n",
    "    xxxx = random.randrange(0,26)\n",
    "    letterset.add(lower[xxxx])\n",
    "    xx = random.randrange(0,10)\n",
    "    letterset.add(diggs[xx])\n",
    "    xxx = random.randrange(0,10)\n",
    "    letterset.add(signs[xxx])\n",
    "passwd = ''.join(letterset)\n",
    "print(passwd )\n",
    "    \n",
    " "
   ]
  },
  {
   "cell_type": "markdown",
   "metadata": {},
   "source": [
    "Есть небольшая проблема: поскольку за один шаг цикла мы добавляем по четыре символа, полученный пароль может оказаться длинее заданной длины. В этом нет ничего страшного, но мы хотим, чтобы все пароли были одинаковыми. Следовательно, нам нужно предусмотреть исключение \"лишних\" символов из пароля. Для этого воспользуемся методом pop() для получившегося множества."
   ]
  },
  {
   "cell_type": "code",
   "execution_count": 19,
   "metadata": {
    "collapsed": true
   },
   "outputs": [],
   "source": [
    "def passgen(length=12):\n",
    "    import random\n",
    "    random.seed()\n",
    "    x = random.randrange(0,26)\n",
    "    xxxx = random.randrange(0,26)\n",
    "    xx = random.randrange(0,10)\n",
    "    xxx = random.randrange(0,10)\n",
    "    letterset = set()\n",
    "    while len(letterset) < length:\n",
    "        x = random.randrange(0,26)\n",
    "        letterset.add(caps[x])\n",
    "        xxxx = random.randrange(0,26)\n",
    "        letterset.add(lower[xxxx])\n",
    "        xx = random.randrange(0,10)\n",
    "        letterset.add(diggs[xx])\n",
    "        xxx = random.randrange(0,10)\n",
    "        letterset.add(signs[xxx])\n",
    "    passwd = ''.join(letterset)\n",
    "    return passwd\n",
    "    \n",
    "    "
   ]
  },
  {
   "cell_type": "markdown",
   "metadata": {},
   "source": [
    "Дополнительно можно решить следующую задачу: сгенерировать сразу несколько паролей и сохранить их в текстовый файл для дальнейшего использования. "
   ]
  },
  {
   "cell_type": "code",
   "execution_count": 22,
   "metadata": {
    "collapsed": false
   },
   "outputs": [
    {
     "name": "stdout",
     "output_type": "stream",
     "text": [
      "p7*3z=S4fL$K6A\n"
     ]
    }
   ],
   "source": [
    "print(passgen())"
   ]
  },
  {
   "cell_type": "markdown",
   "metadata": {},
   "source": [
    "<h3 style=\"color:darkblue;\">Вот, собственно, и все!</h3>"
   ]
  },
  {
   "cell_type": "code",
   "execution_count": null,
   "metadata": {
    "collapsed": true
   },
   "outputs": [],
   "source": []
  },
  {
   "cell_type": "code",
   "execution_count": null,
   "metadata": {
    "collapsed": true
   },
   "outputs": [],
   "source": []
  },
  {
   "cell_type": "code",
   "execution_count": null,
   "metadata": {
    "collapsed": true
   },
   "outputs": [],
   "source": []
  }
 ],
 "metadata": {
  "kernelspec": {
   "display_name": "Python 3",
   "language": "python",
   "name": "python3"
  },
  "language_info": {
   "codemirror_mode": {
    "name": "ipython",
    "version": 3
   },
   "file_extension": ".py",
   "mimetype": "text/x-python",
   "name": "python",
   "nbconvert_exporter": "python",
   "pygments_lexer": "ipython3",
   "version": "3.4.3+"
  }
 },
 "nbformat": 4,
 "nbformat_minor": 1
}
