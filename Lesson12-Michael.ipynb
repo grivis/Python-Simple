{
 "cells": [
  {
   "cell_type": "markdown",
   "metadata": {},
   "source": [
    "<h1 style=\"color:red;\">Graphic User Interface</h1>"
   ]
  },
  {
   "cell_type": "markdown",
   "metadata": {},
   "source": [
    "Most often users run and control computer programs with the help of buttons, icons and input fields, where they type text. Computer mouse is the main tool here. This is called Graphic User Interface (GUI). Most often, a few programs are run at the same time, and each one opens it's own window.\n",
    "To the contrary, there are programs that are controlled by text commands, input from keyboard. Such programs respond to user with texts and figures. This is so-calles Command Line Interface (CLI)."
   ]
  },
  {
   "cell_type": "markdown",
   "metadata": {},
   "source": [
    "Just like many other programming languages, Python has it's own set of tools to create GUI programs. One of the easiest ones is <i>tkinter</i> module. It contains a set of classes and functions to build GUI."
   ]
  },
  {
   "cell_type": "markdown",
   "metadata": {},
   "source": [
    "Individual elemens of GUI are called widgets. Widgets are bricks to build computer programs."
   ]
  },
  {
   "cell_type": "markdown",
   "metadata": {},
   "source": [
    "<h2 style=\"color:red;\">Event Driven Programming</h2>"
   ]
  },
  {
   "cell_type": "markdown",
   "metadata": {},
   "source": [
    "In computer programming, event-driven programming is a programming paradigm in which the flow of the program is determined by events such as user actions (mouse clicks, key presses), sensor outputs, or messages from other programs/threads. Event-driven programming is the dominant paradigm used in graphical user interfaces and other applications that are centered on performing certain actions in response to user input.\n",
    "\n",
    "In an event-driven application, there is generally a main loop that listens for events, and then triggers a callback function when one of those events is detected. In embedded systems the same may be achieved using hardware interrupts instead of a constantly running main loop. Event-driven programs can be written in any programming language"
   ]
  },
  {
   "cell_type": "markdown",
   "metadata": {},
   "source": [
    "To put the above in simple words, event-driven programs most of the time wait for user's actions, respond to them and wait for new actions again."
   ]
  },
  {
   "cell_type": "markdown",
   "metadata": {},
   "source": [
    "<img src='event_driven_1.png' width='70%'>"
   ]
  },
  {
   "cell_type": "markdown",
   "metadata": {},
   "source": [
    "<img src='event_driven_2.png' width='60%'>"
   ]
  },
  {
   "cell_type": "markdown",
   "metadata": {},
   "source": [
    "<h2 style=\"color:red;\">Simple GUI Program with Python and Tkinter</h2>"
   ]
  },
  {
   "cell_type": "markdown",
   "metadata": {},
   "source": [
    "Everything begins with module import"
   ]
  },
  {
   "cell_type": "code",
   "execution_count": 8,
   "metadata": {
    "collapsed": true
   },
   "outputs": [],
   "source": [
    "from tkinter import *"
   ]
  },
  {
   "cell_type": "markdown",
   "metadata": {},
   "source": [
    "If import was successful (that means tkinter is installed on your computer),  we create the main window"
   ]
  },
  {
   "cell_type": "code",
   "execution_count": 9,
   "metadata": {
    "collapsed": true
   },
   "outputs": [],
   "source": [
    "root = Tk()"
   ]
  },
  {
   "cell_type": "markdown",
   "metadata": {},
   "source": [
    "Now we can create widgets. Our first widget will be a button:"
   ]
  },
  {
   "cell_type": "code",
   "execution_count": 10,
   "metadata": {
    "collapsed": false
   },
   "outputs": [],
   "source": [
    "but = Button(root)"
   ]
  },
  {
   "cell_type": "markdown",
   "metadata": {},
   "source": [
    "Widgets may have (and should have!) properties:"
   ]
  },
  {
   "cell_type": "code",
   "execution_count": 11,
   "metadata": {
    "collapsed": true
   },
   "outputs": [],
   "source": [
    "but[\"text\"] = \"Print\""
   ]
  },
  {
   "cell_type": "markdown",
   "metadata": {},
   "source": [
    "Pressing a button is an event. To respond to an event a computer program must have an event handler - a function that does something after event happens."
   ]
  },
  {
   "cell_type": "code",
   "execution_count": 12,
   "metadata": {
    "collapsed": true
   },
   "outputs": [],
   "source": [
    "def printer(event):\n",
    "    print (\"Yet another 'Hello World!'\")"
   ]
  },
  {
   "cell_type": "markdown",
   "metadata": {},
   "source": [
    "The event and it's handler must be linked to each other."
   ]
  },
  {
   "cell_type": "code",
   "execution_count": 13,
   "metadata": {
    "collapsed": false
   },
   "outputs": [
    {
     "data": {
      "text/plain": [
       "'140368684760776printer'"
      ]
     },
     "execution_count": 13,
     "metadata": {},
     "output_type": "execute_result"
    }
   ],
   "source": [
    "but.bind(\"<Button-1>\",printer)"
   ]
  },
  {
   "cell_type": "markdown",
   "metadata": {},
   "source": [
    "Finally, the widge must be placed somewhere in the window. There are many sophisticated ways to do that, but the easies one is"
   ]
  },
  {
   "cell_type": "code",
   "execution_count": 14,
   "metadata": {
    "collapsed": false
   },
   "outputs": [],
   "source": [
    "but.pack()"
   ]
  },
  {
   "cell_type": "markdown",
   "metadata": {},
   "source": [
    "If we don't 'pack' a widget, it will not appear..."
   ]
  },
  {
   "cell_type": "markdown",
   "metadata": {},
   "source": [
    "And now it's time for the whole window to appear on our screen. To do that, we have to start program's main loop:"
   ]
  },
  {
   "cell_type": "code",
   "execution_count": 15,
   "metadata": {
    "collapsed": false
   },
   "outputs": [
    {
     "name": "stdout",
     "output_type": "stream",
     "text": [
      "Yet another 'Hello World!'\n",
      "Yet another 'Hello World!'\n",
      "Yet another 'Hello World!'\n",
      "Yet another 'Hello World!'\n",
      "Yet another 'Hello World!'\n",
      "Yet another 'Hello World!'\n",
      "Yet another 'Hello World!'\n",
      "Yet another 'Hello World!'\n",
      "Yet another 'Hello World!'\n"
     ]
    }
   ],
   "source": [
    "root.mainloop()"
   ]
  },
  {
   "cell_type": "markdown",
   "metadata": {},
   "source": [
    "The above line of code must be placed at the end of a GUI program in Python."
   ]
  },
  {
   "cell_type": "markdown",
   "metadata": {},
   "source": [
    "Now our first GUI program as a whole..."
   ]
  },
  {
   "cell_type": "code",
   "execution_count": 17,
   "metadata": {
    "collapsed": false
   },
   "outputs": [
    {
     "name": "stdout",
     "output_type": "stream",
     "text": [
      "This is our first GUI program\n",
      "This is our first GUI program\n",
      "This is our first GUI program\n"
     ]
    }
   ],
   "source": [
    "from tkinter import *\n",
    " \n",
    "def printer(event):\n",
    "     print (\"This is our first GUI program\")\n",
    " \n",
    "root = Tk()\n",
    "but = Button(root)\n",
    "but[\"text\"] = \"Print\"\n",
    "but.bind(\"<Button-1>\",printer)\n",
    " \n",
    "but.pack()\n",
    "root.mainloop() "
   ]
  },
  {
   "cell_type": "markdown",
   "metadata": {},
   "source": [
    "<h2 style=\"color:red;\">Widgets and Their Properties</h2>"
   ]
  },
  {
   "cell_type": "markdown",
   "metadata": {},
   "source": [
    "<strong>Buttons</strong> have many properties. Below are the most important ones:"
   ]
  },
  {
   "cell_type": "code",
   "execution_count": 21,
   "metadata": {
    "collapsed": true
   },
   "outputs": [],
   "source": [
    "from tkinter import *\n",
    " \n",
    "root = Tk()\n",
    " \n",
    "but = Button(root,\n",
    "          text=\"This Is A Large Button\", #button text\n",
    "          width=20,height=3, #width and height\n",
    "          bg=\"black\",fg=\"darkgreen\") #background and foreground colors\n",
    " \n",
    "but.pack()\n",
    "root.mainloop()"
   ]
  },
  {
   "cell_type": "markdown",
   "metadata": {},
   "source": [
    "<strong>Labels</strong> contain one or more lines of text, typically used to inform user:"
   ]
  },
  {
   "cell_type": "code",
   "execution_count": 22,
   "metadata": {
    "collapsed": false
   },
   "outputs": [],
   "source": [
    "from tkinter import *\n",
    " \n",
    "root = Tk()\n",
    " \n",
    "but = Button(root,\n",
    "          text=\"This Is A Button\", #button text\n",
    "          width=30,height=5, #width and height\n",
    "          bg=\"white\",fg=\"blue\") #background and foreground colors\n",
    " \n",
    "but.pack()\n",
    "\n",
    "lab = Label(root, text=\"This is a label! \\n Made of two lines\", font=\"Arial 16\")\n",
    "\n",
    "lab.pack()\n",
    "root.mainloop()"
   ]
  },
  {
   "cell_type": "markdown",
   "metadata": {},
   "source": [
    "<strong>Entry fields</strong> are used to enter single lines of text"
   ]
  },
  {
   "cell_type": "code",
   "execution_count": 23,
   "metadata": {
    "collapsed": true
   },
   "outputs": [],
   "source": [
    "from tkinter import *\n",
    " \n",
    "root = Tk()\n",
    " \n",
    "but = Button(root,\n",
    "          text=\"This Is A Button\", #button text\n",
    "          width=30,height=5, #width and height\n",
    "          bg=\"white\",fg=\"blue\") #background and foreground colors\n",
    " \n",
    "but.pack()\n",
    "\n",
    "lab = Label(root, text=\"This is a label! \\n Made of two lines\", font=\"Arial 16\")\n",
    "\n",
    "lab.pack()\n",
    "\n",
    "ent = Entry(root,width=20,bd=3)\n",
    "\n",
    "ent.pack()\n",
    "root.mainloop()"
   ]
  },
  {
   "cell_type": "markdown",
   "metadata": {},
   "source": [
    "<strong>Text fields</strong> are used to input or output a few lines of text"
   ]
  },
  {
   "cell_type": "code",
   "execution_count": 24,
   "metadata": {
    "collapsed": true
   },
   "outputs": [],
   "source": [
    "from tkinter import *\n",
    " \n",
    "root = Tk()\n",
    " \n",
    "tex = Text(root,width=40,\n",
    "          font=\"Verdana 12\",\n",
    "          wrap=WORD) \n",
    "\n",
    "tex.pack()\n",
    "root.mainloop()"
   ]
  },
  {
   "cell_type": "markdown",
   "metadata": {},
   "source": [
    "<h2 style=\"color:red;\">Using All These Together</h2>"
   ]
  },
  {
   "cell_type": "code",
   "execution_count": 30,
   "metadata": {
    "collapsed": true
   },
   "outputs": [],
   "source": [
    "def output(event):\n",
    "     s = ent.get()\n",
    "     if s.isdigit():\n",
    "          tex.delete(1.0,END)\n",
    "          sfeet = int(s)\n",
    "          smeter = sfeet / 3\n",
    "          tex.insert(END,\"Length in meters \" + str(smeter))\n",
    "     else:\n",
    "          tex.delete(1.0,END)\n",
    "          tex.insert(END,\"Enter length in feet! \")\n",
    " \n",
    "from tkinter import *\n",
    "root = Tk()\n",
    " \n",
    "ent = Entry(root,width=10)\n",
    "but = Button(root,text=\"Output\", font=\"Arial 10\")\n",
    "tex = Text(root,width=20,height=3,font=\"Arial 10\",wrap=WORD)\n",
    " \n",
    "ent.grid(row=0,column=0,padx=20)\n",
    "but.grid(row=0,column=1)\n",
    "tex.grid(row=0,column=2,padx=20,pady=10)\n",
    " \n",
    "but.bind(\"<Button-1>\",output)\n",
    " \n",
    "root.mainloop() "
   ]
  },
  {
   "cell_type": "code",
   "execution_count": null,
   "metadata": {
    "collapsed": true
   },
   "outputs": [],
   "source": []
  },
  {
   "cell_type": "code",
   "execution_count": null,
   "metadata": {
    "collapsed": true
   },
   "outputs": [],
   "source": []
  }
 ],
 "metadata": {
  "anaconda-cloud": {},
  "kernelspec": {
   "display_name": "Python [default]",
   "language": "python",
   "name": "python3"
  },
  "language_info": {
   "codemirror_mode": {
    "name": "ipython",
    "version": 3
   },
   "file_extension": ".py",
   "mimetype": "text/x-python",
   "name": "python",
   "nbconvert_exporter": "python",
   "pygments_lexer": "ipython3",
   "version": "3.5.2"
  }
 },
 "nbformat": 4,
 "nbformat_minor": 1
}
