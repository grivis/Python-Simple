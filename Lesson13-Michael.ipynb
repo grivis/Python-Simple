{
 "cells": [
  {
   "cell_type": "markdown",
   "metadata": {},
   "source": [
    "<h1 style=\"color:red;\">How to bind Buttons And Functions Together?</h1>"
   ]
  },
  {
   "cell_type": "markdown",
   "metadata": {},
   "source": [
    "GUI programs should not only look great, but must perform certain useful actions. These actions must performed in responce to some user's actions. Pressing a button, user gives a 'graphic' command to the program to do something. This 'something' is done by a certain function. To make these steps work altogether, we have to use <strong>bind</strong> method."
   ]
  },
  {
   "cell_type": "markdown",
   "metadata": {},
   "source": [
    "<img src='bind.png' width='70%'>"
   ]
  },
  {
   "cell_type": "markdown",
   "metadata": {},
   "source": [
    "We have already seen an example of using 'bind' in a GUI application (see the previous lesson). Let's have a look at some more.."
   ]
  },
  {
   "cell_type": "code",
   "execution_count": 6,
   "metadata": {
    "collapsed": false
   },
   "outputs": [],
   "source": [
    "li = [\"red\",\"green\"]\n",
    "def color(event):  \n",
    "     fra.configure(bg=li[0])\n",
    "     li[0],li[1] = li[1],li[0]\n",
    "def outgo(event):\n",
    "     root.destroy()\n",
    "    \n",
    "from tkinter import *\n",
    "root = Tk()\n",
    " \n",
    "fra = Frame(root,width=100,height=100)\n",
    "but = Button(root,text=\"EXIT\")\n",
    " \n",
    "fra.pack()\n",
    "but.pack()\n",
    " \n",
    "root.bind(\"<C>\",color)\n",
    "but.bind(\"<Button-1>\",outgo)\n",
    " \n",
    "root.mainloop()"
   ]
  },
  {
   "cell_type": "markdown",
   "metadata": {},
   "source": [
    "How can we change our program, so it should change color not by pressing RETURN, but clicking mouse on the coloured field?"
   ]
  },
  {
   "cell_type": "code",
   "execution_count": 9,
   "metadata": {
    "collapsed": false
   },
   "outputs": [],
   "source": [
    "li = [\"red\",\"green\" , \"purple\" , \"blue\" , \"orange\", \"yellow\", \"gold\"]\n",
    "countclicks = 0\n",
    "def color(event):\n",
    "     global countclicks\n",
    "     countclicks += 1\n",
    "     fra.configure(bg=li[countclicks%7])\n",
    "     \n",
    "def outgo(event): \n",
    "     root.destroy()\n",
    " \n",
    "from tkinter import *\n",
    "root = Tk()\n",
    " \n",
    "fra = Frame(root,width=100,height=100)\n",
    "but = Button(root,text=\"EXIT\")\n",
    " \n",
    "fra.pack()\n",
    "but.pack()\n",
    " \n",
    "root.bind(\"<Button-1>\",color)\n",
    "but.bind(\"<Button-1>\",outgo)\n",
    " \n",
    "root.mainloop()"
   ]
  },
  {
   "cell_type": "markdown",
   "metadata": {},
   "source": [
    "Another window's property is it's size in pixels. It can be set programmatically. The property is 'windowname.geometry('300x300')'"
   ]
  },
  {
   "cell_type": "markdown",
   "metadata": {},
   "source": [
    "How do we make our main window larger or smaller? What is the difference between a window and a frame? "
   ]
  },
  {
   "cell_type": "code",
   "execution_count": 11,
   "metadata": {
    "collapsed": true
   },
   "outputs": [],
   "source": [
    "li = [\"red\",\"green\" , \"purple\" , \"blue\" , \"orange\", \"yellow\", \"gold\"]\n",
    "countclicks = 0\n",
    "def color(event):\n",
    "     global countclicks\n",
    "     countclicks += 1\n",
    "     fra.configure(bg=li[countclicks%7])\n",
    "     \n",
    "def outgo(event): \n",
    "     root.destroy()\n",
    " \n",
    "from tkinter import *\n",
    "root = Tk()\n",
    "root.geometry('300x300')\n",
    " \n",
    "fra = Frame(root,width=200,height=250)\n",
    "but = Button(root,text=\"EXIT\")\n",
    " \n",
    "fra.pack()\n",
    "but.pack()\n",
    " \n",
    "root.bind(\"<Button-1>\",color)\n",
    "but.bind(\"<Button-1>\",outgo)\n",
    " \n",
    "root.mainloop()"
   ]
  },
  {
   "cell_type": "code",
   "execution_count": 14,
   "metadata": {
    "collapsed": true
   },
   "outputs": [],
   "source": [
    "li = [\"red\",\"green\" , \"purple\" , \"blue\" , \"orange\", \"yellow\", \"gold\"]\n",
    "countclicks = 0\n",
    "countclicks2 = 0\n",
    "def color(event):\n",
    "     global countclicks\n",
    "     countclicks += 1\n",
    "     fra.configure(bg=li[countclicks%7])\n",
    "def color2(event):\n",
    "     global countclicks2\n",
    "     countclicks2 += 1\n",
    "     fra2.configure(bg=li[countclicks2%7])\n",
    "\n",
    "def outgo(event): \n",
    "     root.destroy()\n",
    " \n",
    "from tkinter import *\n",
    "root = Tk()\n",
    "root.geometry('300x300')\n",
    " \n",
    "fra = Frame(root,width=200,height=100)\n",
    "fra2 = Frame(root,width=200, height = 100)\n",
    "but = Button(root,text=\"EXIT\")\n",
    " \n",
    "fra.pack()\n",
    "but.pack()\n",
    "fra2.pack()\n",
    " \n",
    "fra.bind(\"<Button-1>\",color)\n",
    "but.bind(\"<Button-1>\",outgo)\n",
    "fra2.bind(\"<Button-1>\", color2)\n",
    "\n",
    "\n",
    " \n",
    "root.mainloop()"
   ]
  },
  {
   "cell_type": "markdown",
   "metadata": {},
   "source": [
    "Now can we make three buttons: 'Large', 'Medium', 'Small' to control window size?"
   ]
  },
  {
   "cell_type": "code",
   "execution_count": 16,
   "metadata": {
    "collapsed": false
   },
   "outputs": [],
   "source": [
    "li = [\"red\",\"green\" , \"purple\" , \"blue\" , \"orange\", \"yellow\", \"gold\"]\n",
    "countclicks = 0\n",
    "def color(event):\n",
    "     global countclicks\n",
    "     countclicks += 1\n",
    "     fra.configure(bg=li[countclicks%7])\n",
    "     \n",
    "def outgo(event): \n",
    "     root.destroy()\n",
    "\n",
    "def large(event):\n",
    "    root.geometry(\"500x450\")\n",
    "    fra.configure(width=500, height=400)\n",
    "\n",
    "def medium(event):\n",
    "    root.geometry(\"250x200\")\n",
    "    fra.configure(width=250, height=150)\n",
    "    \n",
    "def small(event):\n",
    "    root.geometry(\"125x75\")\n",
    "    fra.configure(width=125, height=50) \n",
    "    \n",
    "     \n",
    "from tkinter import *\n",
    "root = Tk()\n",
    "root.geometry('300x300')\n",
    " \n",
    "fra = Frame(root,width=300,height=250)\n",
    "but = Button(root,text=\"EXIT\")\n",
    " \n",
    "fra.pack()\n",
    "but.pack()\n",
    " \n",
    "root.bind(\"<Button-1>\",color)\n",
    "but.bind(\"<Button-1>\",outgo)\n",
    "root.bind(\"<l>\", large)\n",
    "root.bind(\"<m>\", medium)\n",
    "root.bind(\"<s>\", small)\n",
    " \n",
    "root.mainloop()"
   ]
  },
  {
   "cell_type": "markdown",
   "metadata": {},
   "source": [
    "We can set window's title as 'windowname.title()'"
   ]
  },
  {
   "cell_type": "markdown",
   "metadata": {},
   "source": [
    "How do we make our application to count clicks and display the result in window's title?"
   ]
  },
  {
   "cell_type": "code",
   "execution_count": 19,
   "metadata": {
    "collapsed": false
   },
   "outputs": [],
   "source": [
    "li = [\"red\",\"green\" , \"purple\" , \"blue\" , \"orange\", \"yellow\", \"gold\"]\n",
    "countclicks = 0\n",
    "def color(event):\n",
    "     global countclicks\n",
    "     countclicks += 1\n",
    "     fra.configure(bg=li[countclicks%7])\n",
    "     root.title(str(countclicks)+' clicks made')\n",
    "     \n",
    "def outgo(event): \n",
    "     root.destroy()\n",
    "\n",
    "def large(event):\n",
    "    root.geometry(\"500x450\")\n",
    "    fra.configure(width=500, height=400)\n",
    "\n",
    "def medium(event):\n",
    "    root.geometry(\"250x200\")\n",
    "    fra.configure(width=250, height=150)\n",
    "    \n",
    "def small(event):\n",
    "    root.geometry(\"125x75\")\n",
    "    fra.configure(width=125, height=50)\n",
    "     \n",
    "from tkinter import *\n",
    "root = Tk()\n",
    "root.geometry('300x300')\n",
    "root.title('Our GUI program')\n",
    " \n",
    "fra = Frame(root,width=300,height=250)\n",
    "but = Button(root,text=\"EXIT\")\n",
    " \n",
    "fra.pack()\n",
    "but.pack()\n",
    " \n",
    "root.bind(\"<Button-1>\",color)\n",
    "but.bind(\"<Button-1>\",outgo)\n",
    "root.bind(\"<l>\", large)\n",
    "root.bind(\"<m>\", medium)\n",
    "root.bind(\"<s>\", small)\n",
    " \n",
    "root.mainloop()"
   ]
  },
  {
   "cell_type": "markdown",
   "metadata": {},
   "source": [
    "<h1 style=\"color:red;\">Other Events</h1>"
   ]
  },
  {
   "cell_type": "markdown",
   "metadata": {},
   "source": [
    "Some other events with keyboard and mouse include:\n",
    "<ul>\n",
    "<li>\"Double-Button-1\" </li>\n",
    "<li>\"Motion\" </li>\n",
    "<li>\"Control-z\"</li>\n",
    "</ul>"
   ]
  },
  {
   "cell_type": "markdown",
   "metadata": {},
   "source": [
    "Here is an example of using them:"
   ]
  },
  {
   "cell_type": "code",
   "execution_count": 21,
   "metadata": {
    "collapsed": true
   },
   "outputs": [],
   "source": [
    "from tkinter import *\n",
    " \n",
    "def exit_(event):\n",
    "     root.destroy()\n",
    "def caption(event):\n",
    "     t = ent.get()\n",
    "     lbl.configure(text = t)\n",
    " \n",
    "root = Tk()\n",
    " \n",
    "ent = Entry(root, width = 40)\n",
    "lbl = Label(root, width = 80)\n",
    " \n",
    "ent.pack()\n",
    "lbl.pack()\n",
    " \n",
    "ent.bind('<Return>',caption)\n",
    "root.bind('<Control-z>',exit_)\n",
    " \n",
    "root.mainloop() "
   ]
  },
  {
   "cell_type": "markdown",
   "metadata": {},
   "source": [
    "In Trkinter we can also 'catch' coordinates, at which the mouse was clicked, and the character, which was pressed. This gives us wide opportunity to build graphic control."
   ]
  },
  {
   "cell_type": "code",
   "execution_count": 23,
   "metadata": {
    "collapsed": false
   },
   "outputs": [
    {
     "name": "stdout",
     "output_type": "stream",
     "text": [
      "clicked at 10 11\n",
      "clicked at 94 88\n",
      "clicked at 76 62\n",
      "clicked at 61 41\n",
      "clicked at 46 48\n",
      "pressed 'g'\n",
      "pressed 't'\n",
      "pressed 'u'\n",
      "pressed 'i'\n",
      "clicked at 31 47\n",
      "clicked at 84 39\n",
      "pressed '6'\n",
      "pressed '9'\n"
     ]
    }
   ],
   "source": [
    "from tkinter import *\n",
    "\n",
    "root = Tk()\n",
    "\n",
    "def key(event):\n",
    "    print (\"pressed\", repr(event.char))\n",
    "\n",
    "def callback(event):\n",
    "    frame.focus_set()\n",
    "    print (\"clicked at\", event.x, event.y)\n",
    "\n",
    "frame = Frame(root, width=100, height=100)\n",
    "frame.bind(\"<Key>\", key)\n",
    "frame.bind(\"<Button-1>\", callback)\n",
    "frame.pack()\n",
    "\n",
    "root.mainloop()"
   ]
  },
  {
   "cell_type": "markdown",
   "metadata": {
    "collapsed": true
   },
   "source": [
    "Rewrite Password Generator to make it a GUI application"
   ]
  },
  {
   "cell_type": "code",
   "execution_count": 31,
   "metadata": {
    "collapsed": true
   },
   "outputs": [],
   "source": [
    "def passgen(length=12):\n",
    "    import random\n",
    "    caps = 'ABCDEFGHIJKLMNOPQRSTUVWXYZ'\n",
    "    lower = \"abcdefghijklmnopqrstuvwxyz\"\n",
    "    diggs = \"0123456789\"\n",
    "    signs = \"£~$%&*+=_-\"\n",
    "    random.seed()\n",
    "    x = random.randrange(0,26)\n",
    "    xxxx = random.randrange(0,26)\n",
    "    xx = random.randrange(0,10)\n",
    "    xxx = random.randrange(0,10)\n",
    "    letterset = set()\n",
    "    while len(letterset) < length:\n",
    "        x = random.randrange(0,26)\n",
    "        letterset.add(caps[x])\n",
    "        xxxx = random.randrange(0,26)\n",
    "        letterset.add(lower[xxxx])\n",
    "        xx = random.randrange(0,10)\n",
    "        letterset.add(diggs[xx])\n",
    "        xxx = random.randrange(0,10)\n",
    "        letterset.add(signs[xxx])\n",
    "    passwd = ''.join(letterset)\n",
    "    return passwd"
   ]
  },
  {
   "cell_type": "markdown",
   "metadata": {},
   "source": [
    "Now the GUI application itself"
   ]
  },
  {
   "cell_type": "code",
   "execution_count": 40,
   "metadata": {
    "collapsed": false
   },
   "outputs": [],
   "source": [
    "from tkinter import *\n",
    "#framm = Frame(root, width = 200, length = 400)\n",
    "\n",
    "def passout(event):\n",
    "    passwd = passgen()\n",
    "    lbl.configure(text=passwd)\n",
    "    \n",
    "root = Tk()\n",
    "root.geometry('250x100')\n",
    "root.title('Password Generator')\n",
    "lbl = Label(root, width = 20)\n",
    "lbl2 = Label(root, width = 20, text='Your password below')\n",
    "but = Button(root, width=7, height = 2, text='Generate')\n",
    "but.bind(\"<Button-1>\", passout)\n",
    "but.pack()\n",
    "lbl2.pack()\n",
    "lbl.pack()\n",
    "\n",
    "\n",
    "\n",
    "root.mainloop()\n"
   ]
  },
  {
   "cell_type": "code",
   "execution_count": null,
   "metadata": {
    "collapsed": true
   },
   "outputs": [],
   "source": []
  }
 ],
 "metadata": {
  "anaconda-cloud": {},
  "kernelspec": {
   "display_name": "Python [default]",
   "language": "python",
   "name": "python3"
  },
  "language_info": {
   "codemirror_mode": {
    "name": "ipython",
    "version": 3
   },
   "file_extension": ".py",
   "mimetype": "text/x-python",
   "name": "python",
   "nbconvert_exporter": "python",
   "pygments_lexer": "ipython3",
   "version": "3.5.2"
  }
 },
 "nbformat": 4,
 "nbformat_minor": 1
}
