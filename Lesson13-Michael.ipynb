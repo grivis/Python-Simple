{
 "cells": [
  {
   "cell_type": "markdown",
   "metadata": {},
   "source": [
    "<h1 style=\"color:red;\">How to bind Buttons And Functions Together?</h1>"
   ]
  },
  {
   "cell_type": "markdown",
   "metadata": {},
   "source": [
    "GUI programs should not only look great, but must perform certain useful actions. These actions must performed in responce to some user's actions. Pressing a button, user gives a 'graphic' command to the program to do something. This 'something' is done by a certain function. To make these steps work altogether, we have to use <strong>bind</strong> method."
   ]
  },
  {
   "cell_type": "markdown",
   "metadata": {},
   "source": [
    "<img src='bind.png' width='70%'>"
   ]
  },
  {
   "cell_type": "markdown",
   "metadata": {},
   "source": [
    "We have already seen an example of using 'bind' in a GUI application (see the previous lesson). Let's have a look at some more.."
   ]
  },
  {
   "cell_type": "code",
   "execution_count": 2,
   "metadata": {
    "collapsed": true
   },
   "outputs": [],
   "source": [
    "li = [\"red\",\"green\"]\n",
    "def color(event):  \n",
    "     fra.configure(bg=li[0])\n",
    "     li[0],li[1] = li[1],li[0]\n",
    "def outgo(event):\n",
    "     root.destroy()\n",
    " \n",
    "from tkinter import *\n",
    "root = Tk()\n",
    " \n",
    "fra = Frame(root,width=100,height=100)\n",
    "but = Button(root,text=\"EXIT\")\n",
    " \n",
    "fra.pack()\n",
    "but.pack()\n",
    " \n",
    "root.bind(\"<Return>\",color)\n",
    "but.bind(\"<Button-1>\",outgo)\n",
    " \n",
    "root.mainloop()"
   ]
  },
  {
   "cell_type": "markdown",
   "metadata": {},
   "source": [
    "How can we change our program, so it should change color not by pressing RETURN, but clicking mouse on the coloured field?"
   ]
  },
  {
   "cell_type": "code",
   "execution_count": 17,
   "metadata": {
    "collapsed": false
   },
   "outputs": [],
   "source": [
    "li = [\"red\",\"green\" , \"purple\" , \"blue\" , \"orange\", \"yellow\", \"gold\"]\n",
    "countclicks = 0\n",
    "def color(event):\n",
    "     global countclicks\n",
    "     countclicks += 1\n",
    "     fra.configure(bg=li[countclicks%7])\n",
    "     \n",
    "def outgo(event): \n",
    "     root.destroy()\n",
    " \n",
    "from tkinter import *\n",
    "root = Tk()\n",
    " \n",
    "fra = Frame(root,width=100,height=100)\n",
    "but = Button(root,text=\"EXIT\")\n",
    " \n",
    "fra.pack()\n",
    "but.pack()\n",
    " \n",
    "root.bind(\"<Button-1>\",color)\n",
    "but.bind(\"<Button-1>\",outgo)\n",
    " \n",
    "root.mainloop()"
   ]
  },
  {
   "cell_type": "markdown",
   "metadata": {},
   "source": [
    "Another window's property is it's size in pixels. It can be set programmatically. The property is 'windowname.geometry('300x300')'"
   ]
  },
  {
   "cell_type": "markdown",
   "metadata": {},
   "source": [
    "How do we make our main window larger or smaller? What is the difference between a window and a frame? "
   ]
  },
  {
   "cell_type": "code",
   "execution_count": 20,
   "metadata": {
    "collapsed": true
   },
   "outputs": [],
   "source": [
    "li = [\"red\",\"green\" , \"purple\" , \"blue\" , \"orange\", \"yellow\", \"gold\"]\n",
    "countclicks = 0\n",
    "def color(event):\n",
    "     global countclicks\n",
    "     countclicks += 1\n",
    "     fra.configure(bg=li[countclicks%7])\n",
    "     \n",
    "def outgo(event): \n",
    "     root.destroy()\n",
    " \n",
    "from tkinter import *\n",
    "root = Tk()\n",
    "root.geometry('300x300')\n",
    " \n",
    "fra = Frame(root,width=300,height=250)\n",
    "but = Button(root,text=\"EXIT\")\n",
    " \n",
    "fra.pack()\n",
    "but.pack()\n",
    " \n",
    "root.bind(\"<Button-1>\",color)\n",
    "but.bind(\"<Button-1>\",outgo)\n",
    " \n",
    "root.mainloop()"
   ]
  },
  {
   "cell_type": "markdown",
   "metadata": {},
   "source": [
    "Now can we make three buttons: 'Large', 'Medium', 'Small' to control window size?"
   ]
  },
  {
   "cell_type": "code",
   "execution_count": 25,
   "metadata": {
    "collapsed": false
   },
   "outputs": [],
   "source": [
    "li = [\"red\",\"green\" , \"purple\" , \"blue\" , \"orange\", \"yellow\", \"gold\"]\n",
    "countclicks = 0\n",
    "def color(event):\n",
    "     global countclicks\n",
    "     countclicks += 1\n",
    "     fra.configure(bg=li[countclicks%7])\n",
    "     \n",
    "def outgo(event): \n",
    "     root.destroy()\n",
    "\n",
    "def large(event):\n",
    "    root.geometry(\"500x450\")\n",
    "    fra.configure(width=500, height=400)\n",
    "\n",
    "def medium(event):\n",
    "    root.geometry(\"250x200\")\n",
    "    fra.configure(width=250, height=150)\n",
    "    \n",
    "def small(event):\n",
    "    root.geometry(\"125x75\")\n",
    "    fra.configure(width=125, height=50) \n",
    "    \n",
    "    It works! Congratulation!!!\n",
    " \n",
    "from tkinter import *\n",
    "root = Tk()\n",
    "root.geometry('300x300')\n",
    " \n",
    "fra = Frame(root,width=300,height=250)\n",
    "but = Button(root,text=\"EXIT\")\n",
    " \n",
    "fra.pack()\n",
    "but.pack()\n",
    " \n",
    "root.bind(\"<Button-1>\",color)\n",
    "but.bind(\"<Button-1>\",outgo)\n",
    "root.bind(\"<L>\", large)\n",
    "root.bind(\"<M>\", medium)\n",
    "root.bind(\"<S>\", small)\n",
    " \n",
    "root.mainloop()"
   ]
  },
  {
   "cell_type": "markdown",
   "metadata": {},
   "source": [
    "We can set window's title as 'windowname.title()'"
   ]
  },
  {
   "cell_type": "markdown",
   "metadata": {},
   "source": [
    "How do we make our application to count clicks and display the result in window's title?"
   ]
  },
  {
   "cell_type": "code",
   "execution_count": 16,
   "metadata": {
    "collapsed": false
   },
   "outputs": [],
   "source": [
    "#Your code here -- window title"
   ]
  },
  {
   "cell_type": "markdown",
   "metadata": {},
   "source": [
    "<h1 style=\"color:red;\">Other Events</h1>"
   ]
  },
  {
   "cell_type": "markdown",
   "metadata": {},
   "source": [
    "Some other events with keyboard and mouse include:\n",
    "<ul>\n",
    "<li>\"Double-Button-1\" </li>\n",
    "<li>\"Motion\" </li>\n",
    "<li>\"Control-z\"</li>\n",
    "</ul>"
   ]
  },
  {
   "cell_type": "markdown",
   "metadata": {},
   "source": [
    "Here is an example of using them:"
   ]
  },
  {
   "cell_type": "code",
   "execution_count": 10,
   "metadata": {
    "collapsed": true
   },
   "outputs": [],
   "source": [
    "from tkinter import *\n",
    " \n",
    "def exit_(event):\n",
    "     root.destroy()\n",
    "def caption(event):\n",
    "     t = ent.get()\n",
    "     lbl.configure(text = t)\n",
    " \n",
    "root = Tk()\n",
    " \n",
    "ent = Entry(root, width = 40)\n",
    "lbl = Label(root, width = 80)\n",
    " \n",
    "ent.pack()\n",
    "lbl.pack()\n",
    " \n",
    "ent.bind('<Return>',caption)\n",
    "root.bind('<Control-z>',exit_)\n",
    " \n",
    "root.mainloop() "
   ]
  },
  {
   "cell_type": "markdown",
   "metadata": {},
   "source": [
    "In Trkinter we can also 'catch' coordinates, at which the mouse was clicked, and the character, which was pressed. This gives us wide opportunity to build graphic control."
   ]
  },
  {
   "cell_type": "code",
   "execution_count": 22,
   "metadata": {
    "collapsed": false
   },
   "outputs": [
    {
     "ename": "KeyboardInterrupt",
     "evalue": "",
     "output_type": "error",
     "traceback": [
      "\u001b[0;31m---------------------------------------------------------------------------\u001b[0m",
      "\u001b[0;31mKeyboardInterrupt\u001b[0m                         Traceback (most recent call last)",
      "\u001b[0;32m<ipython-input-22-847839b1fa2b>\u001b[0m in \u001b[0;36m<module>\u001b[0;34m()\u001b[0m\n\u001b[1;32m     15\u001b[0m \u001b[0mframe\u001b[0m\u001b[0;34m.\u001b[0m\u001b[0mpack\u001b[0m\u001b[0;34m(\u001b[0m\u001b[0;34m)\u001b[0m\u001b[0;34m\u001b[0m\u001b[0m\n\u001b[1;32m     16\u001b[0m \u001b[0;34m\u001b[0m\u001b[0m\n\u001b[0;32m---> 17\u001b[0;31m \u001b[0mroot\u001b[0m\u001b[0;34m.\u001b[0m\u001b[0mmainloop\u001b[0m\u001b[0;34m(\u001b[0m\u001b[0;34m)\u001b[0m\u001b[0;34m\u001b[0m\u001b[0m\n\u001b[0m",
      "\u001b[0;32m/home/grivis/anaconda3/lib/python3.5/tkinter/__init__.py\u001b[0m in \u001b[0;36mmainloop\u001b[0;34m(self, n)\u001b[0m\n\u001b[1;32m   1129\u001b[0m     \u001b[0;32mdef\u001b[0m \u001b[0mmainloop\u001b[0m\u001b[0;34m(\u001b[0m\u001b[0mself\u001b[0m\u001b[0;34m,\u001b[0m \u001b[0mn\u001b[0m\u001b[0;34m=\u001b[0m\u001b[0;36m0\u001b[0m\u001b[0;34m)\u001b[0m\u001b[0;34m:\u001b[0m\u001b[0;34m\u001b[0m\u001b[0m\n\u001b[1;32m   1130\u001b[0m         \u001b[0;34m\"\"\"Call the mainloop of Tk.\"\"\"\u001b[0m\u001b[0;34m\u001b[0m\u001b[0m\n\u001b[0;32m-> 1131\u001b[0;31m         \u001b[0mself\u001b[0m\u001b[0;34m.\u001b[0m\u001b[0mtk\u001b[0m\u001b[0;34m.\u001b[0m\u001b[0mmainloop\u001b[0m\u001b[0;34m(\u001b[0m\u001b[0mn\u001b[0m\u001b[0;34m)\u001b[0m\u001b[0;34m\u001b[0m\u001b[0m\n\u001b[0m\u001b[1;32m   1132\u001b[0m     \u001b[0;32mdef\u001b[0m \u001b[0mquit\u001b[0m\u001b[0;34m(\u001b[0m\u001b[0mself\u001b[0m\u001b[0;34m)\u001b[0m\u001b[0;34m:\u001b[0m\u001b[0;34m\u001b[0m\u001b[0m\n\u001b[1;32m   1133\u001b[0m         \u001b[0;34m\"\"\"Quit the Tcl interpreter. All widgets will be destroyed.\"\"\"\u001b[0m\u001b[0;34m\u001b[0m\u001b[0m\n",
      "\u001b[0;31mKeyboardInterrupt\u001b[0m: "
     ]
    }
   ],
   "source": [
    "from tkinter import *\n",
    "\n",
    "root = Tk()\n",
    "\n",
    "def key(event):\n",
    "    print (\"pressed\", repr(event.char))\n",
    "\n",
    "def callback(event):\n",
    "    frame.focus_set()\n",
    "    print (\"clicked at\", event.x, event.y)\n",
    "\n",
    "frame = Frame(root, width=100, height=100)\n",
    "frame.bind(\"<Key>\", key)\n",
    "frame.bind(\"<Button-1>\", callback)\n",
    "frame.pack()\n",
    "\n",
    "root.mainloop()"
   ]
  },
  {
   "cell_type": "code",
   "execution_count": null,
   "metadata": {
    "collapsed": true
   },
   "outputs": [],
   "source": []
  }
 ],
 "metadata": {
  "anaconda-cloud": {},
  "kernelspec": {
   "display_name": "Python [default]",
   "language": "python",
   "name": "python3"
  },
  "language_info": {
   "codemirror_mode": {
    "name": "ipython",
    "version": 3
   },
   "file_extension": ".py",
   "mimetype": "text/x-python",
   "name": "python",
   "nbconvert_exporter": "python",
   "pygments_lexer": "ipython3",
   "version": "3.5.2"
  }
 },
 "nbformat": 4,
 "nbformat_minor": 1
}
