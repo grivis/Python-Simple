{
 "cells": [
  {
   "cell_type": "markdown",
   "metadata": {},
   "source": [
    "<h1 style=\"color:red;\">Rock–Paper–Scissors Game</h1>"
   ]
  },
  {
   "cell_type": "markdown",
   "metadata": {},
   "source": [
    "Rock-paper-scissors or Scissor-Paper-Rock, is a zero-sum hand game usually played between two people, in which each player simultaneously forms one of three shapes with an outstretched hand. These shapes are \"rock\", \"paper\", and \"scissors\". The game has only three possible outcomes other than a tie: a player who decides to play rock will beat another player who has chosen scissors (\"rock crushes scissors\") but will lose to one who has played paper (\"paper covers rock\"); a play of paper will lose to a play of scissors (\"scissors cut paper\"). If both players choose the same shape, the game is tied and is usually immediately replayed to break the tie. Other names for the game in the English-speaking world include roshambo and other orderings of the three items, sometimes with \"rock\" being called \"stone\"."
   ]
  },
  {
   "cell_type": "markdown",
   "metadata": {},
   "source": [
    "<img src=\"Rock-paper-scissors.png\">"
   ]
  },
  {
   "cell_type": "markdown",
   "metadata": {},
   "source": [
    "We are going to make a Python program to simulate the game. Before the game begins, game pieces (stone or rock, scissors and paper) are created as program objects and put together in a pot. Then players take pieces from the pot and, when necessary, declare what pieces they hold. The winner is chosen according to the above rules."
   ]
  },
  {
   "cell_type": "markdown",
   "metadata": {},
   "source": [
    "In our program, we will use three classes:"
   ]
  },
  {
   "cell_type": "code",
   "execution_count": 30,
   "metadata": {
    "collapsed": true
   },
   "outputs": [],
   "source": [
    "class Gamepiece(object):\n",
    "    types = ['Paper', 'Scissors','Rock']\n",
    "    def __init__(self, typeid):\n",
    "        self.type = Gamepiece.types[typeid]\n",
    "    def __str__(self):\n",
    "        return self.type"
   ]
  },
  {
   "cell_type": "code",
   "execution_count": 31,
   "metadata": {
    "collapsed": false
   },
   "outputs": [],
   "source": [
    "class Gamepot(object):\n",
    "    def fill(self, pieces):\n",
    "        self.content = pieces\n",
    "    def __str__(self):\n",
    "        strings = []\n",
    "        for item in self.content:\n",
    "            strings.append(str(item))\n",
    "        return 'Pot now contains: ' + ' '.join(strings)\n",
    "    def rempiece(self, pieceid):\n",
    "            self.content.pop(pieceid)"
   ]
  },
  {
   "cell_type": "code",
   "execution_count": 35,
   "metadata": {
    "collapsed": false
   },
   "outputs": [],
   "source": [
    "\n",
    "class Player(object)\n",
    "    def __init__(self, name):\n",
    "        self.name = name\n",
    "    def takepiece(self, pot, pieceid):\n",
    "        self.holds = pot.content[pieceid]\n",
    "        pot.rempiece(pieceid)\n",
    "    def takerandom(self, pot):\n",
    "        x = random.randrange(len(pot.content))\n",
    "        self.holds = pot.content[x]\n",
    "        pot.rempiece(x)\n",
    "        \n",
    "        #######\n",
    "    def __str__(self):\n",
    "        return 'Player ' + self.name + ' now holds ' + str(self.holds)"
   ]
  },
  {
   "cell_type": "markdown",
   "metadata": {},
   "source": [
    "Now we can create objects and write the main part of the program to imitate the whole game. We will also add a command-line menu. In the menu the human player will select a gamepiece from the pot and let the computer make it's choice.  "
   ]
  },
  {
   "cell_type": "code",
   "execution_count": 15,
   "metadata": {
    "collapsed": false
   },
   "outputs": [
    {
     "name": "stdout",
     "output_type": "stream",
     "text": [
      "Paper\n",
      "Scissors\n",
      "Stone\n"
     ]
    }
   ],
   "source": [
    "##\n",
    "piece1 = Gamepiece(0)\n",
    "print(piece1)\n",
    "piece2 = Gamepiece(1)\n",
    "print(piece2)\n",
    "piece3 = Gamepiece(2)\n",
    "print(piece3)"
   ]
  },
  {
   "cell_type": "code",
   "execution_count": 37,
   "metadata": {
    "collapsed": false
   },
   "outputs": [
    {
     "name": "stdout",
     "output_type": "stream",
     "text": [
      "Paper Scissors Rock "
     ]
    }
   ],
   "source": [
    "##\n",
    "pieces = [Gamepiece(0), Gamepiece(1), Gamepiece(2)]\n",
    "for item in pieces:\n",
    "    print(item,  end=' ')"
   ]
  },
  {
   "cell_type": "code",
   "execution_count": 38,
   "metadata": {
    "collapsed": false
   },
   "outputs": [
    {
     "name": "stdout",
     "output_type": "stream",
     "text": [
      "Pot now contains: Paper Scissors Rock\n",
      "Pot now contains: Paper Rock\n",
      "Player John now holds Scissors\n",
      "Pot now contains: Rock\n",
      "Player Robby now holds Paper\n"
     ]
    }
   ],
   "source": [
    "##\n",
    "import random\n",
    "pot = Gamepot()\n",
    "pot.fill(pieces)\n",
    "print(pot)\n",
    "\n",
    "person = Player('John')\n",
    "person.takepiece(pot, 1)\n",
    "print(pot)\n",
    "print(person)\n",
    "\n",
    "robot = Player('Robby')\n",
    "robot.takerandom(pot)\n",
    "print(pot)\n",
    "print(robot)\n"
   ]
  },
  {
   "cell_type": "code",
   "execution_count": null,
   "metadata": {
    "collapsed": true
   },
   "outputs": [],
   "source": []
  }
 ],
 "metadata": {
  "anaconda-cloud": {},
  "kernelspec": {
   "display_name": "Python [default]",
   "language": "python",
   "name": "python3"
  },
  "language_info": {
   "codemirror_mode": {
    "name": "ipython",
    "version": 3
   },
   "file_extension": ".py",
   "mimetype": "text/x-python",
   "name": "python",
   "nbconvert_exporter": "python",
   "pygments_lexer": "ipython3",
   "version": "3.5.2"
  }
 },
 "nbformat": 4,
 "nbformat_minor": 1
}
