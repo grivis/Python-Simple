{
 "cells": [
  {
   "cell_type": "markdown",
   "metadata": {},
   "source": [
    "# Lesson 2 #"
   ]
  },
  {
   "cell_type": "markdown",
   "metadata": {},
   "source": [
    "## Palindromes ##"
   ]
  },
  {
   "cell_type": "markdown",
   "metadata": {},
   "source": [
    "A palindrome is a word, phrase, number, or other sequence of characters which reads the same backward or forward, such as **madam** or **kayak**. Sentence-length palindromes may be written when allowances are made for adjustments to capital letters, punctuation, and word dividers, such as \"A man, a plan, a canal, Panama!\", \"Was it a car or a cat I saw?\""
   ]
  },
  {
   "cell_type": "markdown",
   "metadata": {},
   "source": [
    "Numbers can be palindromic too. A palindromic number or numeral palindrome is a number that remains the same when its digits are reversed. Like 16461, for example, it is \"symmetrical\". The term palindromic is derived from palindrome, which refers to a word (such as rotor or \"racecar\" or even \"Malayalam\") whose spelling is unchanged when its letters are reversed. The first 30 palindromic numbers are:"
   ]
  },
  {
   "cell_type": "markdown",
   "metadata": {},
   "source": [
    "**0, 1, 2, 3, 4, 5, 6, 7, 8, 9, 11, 22, 33, 44, 55, 66, 77, 88, 99, 101, 111, 121, 131, 141, 151, 161, 171, 181, 191, 202, … **"
   ]
  },
  {
   "cell_type": "markdown",
   "metadata": {},
   "source": [
    "How do we find all palindromic numbers within a certain range?"
   ]
  },
  {
   "cell_type": "markdown",
   "metadata": {},
   "source": [
    "In Python we can use the range() function. This function takes three parameters: START, STOP and STEP. It produces (returns) a series of values from START to nearly STOP with the given STEP. *Nearly* here means that range() actually stops immediately before the STOP. Let's have a look at a simple example:"
   ]
  },
  {
   "cell_type": "code",
   "execution_count": 10,
   "metadata": {
    "collapsed": false
   },
   "outputs": [
    {
     "name": "stdout",
     "output_type": "stream",
     "text": [
      "0 1 2 3 4 5 6 7 8 9 10 11 "
     ]
    }
   ],
   "source": [
    "for i in range(12):\n",
    "    print(i, end=' ')"
   ]
  },
  {
   "cell_type": "markdown",
   "metadata": {},
   "source": [
    "Please note, that 10 is not included! Range() *never* includes the value, given as STOP. Just like a slice of a list or a string do!"
   ]
  },
  {
   "cell_type": "markdown",
   "metadata": {},
   "source": [
    "So, we return to palindromic numbers, or simply palyndromes. We use a range() function to go through a series of numbers. For every number, we check if this number is a palindrome. How do we do that?"
   ]
  },
  {
   "cell_type": "code",
   "execution_count": 16,
   "metadata": {
    "collapsed": false,
    "scrolled": true
   },
   "outputs": [
    {
     "name": "stdout",
     "output_type": "stream",
     "text": [
      "It's NOT a palindrome\n"
     ]
    }
   ],
   "source": [
    "a = 1223\n",
    "astr = str(a)\n",
    "astrr = astr[::-1]\n",
    "if astr == astrr:\n",
    "    print(\"It's a palindrome\")\n",
    "else:\n",
    "    print(\"It's NOT a palindrome\")\n",
    "#The rest of the code here"
   ]
  },
  {
   "cell_type": "markdown",
   "metadata": {},
   "source": [
    "Now we simply put the above code inside a cycle using range() and print out every number that turns out to be palindromic."
   ]
  },
  {
   "cell_type": "code",
   "execution_count": 18,
   "metadata": {
    "collapsed": false,
    "scrolled": true
   },
   "outputs": [
    {
     "name": "stdout",
     "output_type": "stream",
     "text": [
      "1 2 3 4 5 6 7 8 9 11 22 33 44 55 66 77 88 99 "
     ]
    }
   ],
   "source": [
    "for a in range(1,100):\n",
    "    b = str(a)\n",
    "    br = b[::-1]\n",
    "    if br == b:\n",
    "        print(a, end = ' ')"
   ]
  },
  {
   "cell_type": "markdown",
   "metadata": {},
   "source": [
    "Our code produces the same sequence, we saw in the very beginning of the lesson! And what's the problem? As a matter of fact, this algorithm (the method to produce the result) becomes too slow, when we decide to find all palindroms from 1 to one million. That is, to produce all two, three, four, five and six digits long palindromes. Some creative approach is necessary. Can we imagine one?"
   ]
  },
  {
   "cell_type": "markdown",
   "metadata": {},
   "source": [
    "Yes, we can! How do we do that? We take a 2-digit number, convert it to string, invert it and concatenate (join) it with the original number. Then we convert the result into integer number again. And here comes a new 4-digit palindrome!"
   ]
  },
  {
   "cell_type": "markdown",
   "metadata": {},
   "source": [
    "Let's go! First, we make a list of all 2-digit palindromes:"
   ]
  },
  {
   "cell_type": "code",
   "execution_count": 8,
   "metadata": {
    "collapsed": false,
    "scrolled": true
   },
   "outputs": [
    {
     "name": "stdout",
     "output_type": "stream",
     "text": [
      "[11, 22, 33, 44, 55, 66, 77, 88, 99] \n",
      "There are 9 of them!\n"
     ]
    }
   ],
   "source": [
    "pal2 = []\n",
    "for i in range(1,10,1):\n",
    "    pal2.append(int(2*str(i)))\n",
    "print(pal2, '\\nThere are', len(pal2), 'of them!')"
   ]
  },
  {
   "cell_type": "markdown",
   "metadata": {},
   "source": [
    "Then we do the rest: 12 21 34 43 56 65"
   ]
  },
  {
   "cell_type": "code",
   "execution_count": 12,
   "metadata": {
    "collapsed": false
   },
   "outputs": [
    {
     "name": "stdout",
     "output_type": "stream",
     "text": [
      "[1001, 1111, 1221, 1331, 1441, 1551, 1661, 1771, 1881, 1991, 2002, 2112, 2222, 2332, 2442, 2552, 2662, 2772, 2882, 2992, 3003, 3113, 3223, 3333, 3443, 3553, 3663, 3773, 3883, 3993, 4004, 4114, 4224, 4334, 4444, 4554, 4664, 4774, 4884, 4994, 5005, 5115, 5225, 5335, 5445, 5555, 5665, 5775, 5885, 5995, 6006, 6116, 6226, 6336, 6446, 6556, 6666, 6776, 6886, 6996, 7007, 7117, 7227, 7337, 7447, 7557, 7667, 7777, 7887, 7997, 8008, 8118, 8228, 8338, 8448, 8558, 8668, 8778, 8888, 8998, 9009, 9119, 9229, 9339, 9449, 9559, 9669, 9779, 9889, 9999] \n",
      "There are 90 of them!\n"
     ]
    }
   ],
   "source": [
    "pal4 = []\n",
    "for i in range(10,100, 1):\n",
    "    a = str(i)\n",
    "    pal4.append(int(a+a[::-1]))\n",
    "print(pal4,'\\nThere are', len(pal4), 'of them!')"
   ]
  },
  {
   "cell_type": "markdown",
   "metadata": {},
   "source": [
    "Now we have a complete list of all palindromic numbers, that consist of four digits exactly. But it seems we have skipped 3-digit palindromes. How do we make them? And now we want to produce the list from the very beginning, without have a list of 2-digits palindromes prepared before. Is that possible?"
   ]
  },
  {
   "cell_type": "markdown",
   "metadata": {},
   "source": [
    "Yes, it is! We need to use nested cycles - one cycle inside of another. The first, outer cycle, will produce the first and the last digits - they must be the same! The second, inner cycle, will produce the middle digits. They must be in the 0..9 range. Here we go: 121 131 141 151 161 171 181 191 202 212 ...."
   ]
  },
  {
   "cell_type": "code",
   "execution_count": 2,
   "metadata": {
    "collapsed": false,
    "scrolled": true
   },
   "outputs": [
    {
     "name": "stdout",
     "output_type": "stream",
     "text": [
      "[101, 111, 121, 131, 141, 151, 161, 171, 181, 191, 202, 212, 222, 232, 242, 252, 262, 272, 282, 292, 303, 313, 323, 333, 343, 353, 363, 373, 383, 393, 404, 414, 424, 434, 444, 454, 464, 474, 484, 494, 505, 515, 525, 535, 545, 555, 565, 575, 585, 595, 606, 616, 626, 636, 646, 656, 666, 676, 686, 696, 707, 717, 727, 737, 747, 757, 767, 777, 787, 797, 808, 818, 828, 838, 848, 858, 868, 878, 888, 898, 909, 919, 929, 939, 949, 959, 969, 979, 989, 999]\n",
      "There are 90 of them!\n"
     ]
    }
   ],
   "source": [
    "pal3 = []\n",
    "for i in range(1,10):\n",
    "    for j in range(0, 10):\n",
    "        iji = str(i) + str(j) + str(i)\n",
    "        pal3.append(int(iji))\n",
    "print(pal3)\n",
    "print('There are', len(pal3), 'of them!')"
   ]
  },
  {
   "cell_type": "markdown",
   "metadata": {},
   "source": [
    "Now we have a working code that makes a list of all 3-digit palindromes. And we have got the whole idea - how to make palindromes. Consisting of two, three and four digits. And of course we are able to extend the algorithm to write a code that will give us five and six and even longer palindromes. Please note, these pieces of code run much faster compared to the code in the beginning of the lesson. Because we don't check all the numbers in a range, most of which are not palindromes at all!"
   ]
  },
  {
   "cell_type": "markdown",
   "metadata": {},
   "source": [
    "To finish with this lesson, let's make a program that takes a list of 3-digits palindrome and makes the list of 7-digits palindromes. That is numbers up to 10 millions!"
   ]
  },
  {
   "cell_type": "code",
   "execution_count": 3,
   "metadata": {
    "collapsed": false
   },
   "outputs": [
    {
     "name": "stdout",
     "output_type": "stream",
     "text": [
      "[1010101, 1011101, 1012101, 1013101, 1014101, 1015101, 1016101, 1017101, 1018101, 1019101, 1110111, 1111111, 1112111, 1113111, 1114111, 1115111, 1116111, 1117111, 1118111, 1119111, 1210121, 1211121, 1212121, 1213121, 1214121, 1215121, 1216121, 1217121, 1218121, 1219121, 1310131, 1311131, 1312131, 1313131, 1314131, 1315131, 1316131, 1317131, 1318131, 1319131, 1410141, 1411141, 1412141, 1413141, 1414141, 1415141, 1416141, 1417141, 1418141, 1419141, 1510151, 1511151, 1512151, 1513151, 1514151, 1515151, 1516151, 1517151, 1518151, 1519151, 1610161, 1611161, 1612161, 1613161, 1614161, 1615161, 1616161, 1617161, 1618161, 1619161, 1710171, 1711171, 1712171, 1713171, 1714171, 1715171, 1716171, 1717171, 1718171, 1719171, 1810181, 1811181, 1812181, 1813181, 1814181, 1815181, 1816181, 1817181, 1818181, 1819181, 1910191, 1911191, 1912191, 1913191, 1914191, 1915191, 1916191, 1917191, 1918191, 1919191, 2020202, 2021202, 2022202, 2023202, 2024202, 2025202, 2026202, 2027202, 2028202, 2029202, 2120212, 2121212, 2122212, 2123212, 2124212, 2125212, 2126212, 2127212, 2128212, 2129212, 2220222, 2221222, 2222222, 2223222, 2224222, 2225222, 2226222, 2227222, 2228222, 2229222, 2320232, 2321232, 2322232, 2323232, 2324232, 2325232, 2326232, 2327232, 2328232, 2329232, 2420242, 2421242, 2422242, 2423242, 2424242, 2425242, 2426242, 2427242, 2428242, 2429242, 2520252, 2521252, 2522252, 2523252, 2524252, 2525252, 2526252, 2527252, 2528252, 2529252, 2620262, 2621262, 2622262, 2623262, 2624262, 2625262, 2626262, 2627262, 2628262, 2629262, 2720272, 2721272, 2722272, 2723272, 2724272, 2725272, 2726272, 2727272, 2728272, 2729272, 2820282, 2821282, 2822282, 2823282, 2824282, 2825282, 2826282, 2827282, 2828282, 2829282, 2920292, 2921292, 2922292, 2923292, 2924292, 2925292, 2926292, 2927292, 2928292, 2929292, 3030303, 3031303, 3032303, 3033303, 3034303, 3035303, 3036303, 3037303, 3038303, 3039303, 3130313, 3131313, 3132313, 3133313, 3134313, 3135313, 3136313, 3137313, 3138313, 3139313, 3230323, 3231323, 3232323, 3233323, 3234323, 3235323, 3236323, 3237323, 3238323, 3239323, 3330333, 3331333, 3332333, 3333333, 3334333, 3335333, 3336333, 3337333, 3338333, 3339333, 3430343, 3431343, 3432343, 3433343, 3434343, 3435343, 3436343, 3437343, 3438343, 3439343, 3530353, 3531353, 3532353, 3533353, 3534353, 3535353, 3536353, 3537353, 3538353, 3539353, 3630363, 3631363, 3632363, 3633363, 3634363, 3635363, 3636363, 3637363, 3638363, 3639363, 3730373, 3731373, 3732373, 3733373, 3734373, 3735373, 3736373, 3737373, 3738373, 3739373, 3830383, 3831383, 3832383, 3833383, 3834383, 3835383, 3836383, 3837383, 3838383, 3839383, 3930393, 3931393, 3932393, 3933393, 3934393, 3935393, 3936393, 3937393, 3938393, 3939393, 4040404, 4041404, 4042404, 4043404, 4044404, 4045404, 4046404, 4047404, 4048404, 4049404, 4140414, 4141414, 4142414, 4143414, 4144414, 4145414, 4146414, 4147414, 4148414, 4149414, 4240424, 4241424, 4242424, 4243424, 4244424, 4245424, 4246424, 4247424, 4248424, 4249424, 4340434, 4341434, 4342434, 4343434, 4344434, 4345434, 4346434, 4347434, 4348434, 4349434, 4440444, 4441444, 4442444, 4443444, 4444444, 4445444, 4446444, 4447444, 4448444, 4449444, 4540454, 4541454, 4542454, 4543454, 4544454, 4545454, 4546454, 4547454, 4548454, 4549454, 4640464, 4641464, 4642464, 4643464, 4644464, 4645464, 4646464, 4647464, 4648464, 4649464, 4740474, 4741474, 4742474, 4743474, 4744474, 4745474, 4746474, 4747474, 4748474, 4749474, 4840484, 4841484, 4842484, 4843484, 4844484, 4845484, 4846484, 4847484, 4848484, 4849484, 4940494, 4941494, 4942494, 4943494, 4944494, 4945494, 4946494, 4947494, 4948494, 4949494, 5050505, 5051505, 5052505, 5053505, 5054505, 5055505, 5056505, 5057505, 5058505, 5059505, 5150515, 5151515, 5152515, 5153515, 5154515, 5155515, 5156515, 5157515, 5158515, 5159515, 5250525, 5251525, 5252525, 5253525, 5254525, 5255525, 5256525, 5257525, 5258525, 5259525, 5350535, 5351535, 5352535, 5353535, 5354535, 5355535, 5356535, 5357535, 5358535, 5359535, 5450545, 5451545, 5452545, 5453545, 5454545, 5455545, 5456545, 5457545, 5458545, 5459545, 5550555, 5551555, 5552555, 5553555, 5554555, 5555555, 5556555, 5557555, 5558555, 5559555, 5650565, 5651565, 5652565, 5653565, 5654565, 5655565, 5656565, 5657565, 5658565, 5659565, 5750575, 5751575, 5752575, 5753575, 5754575, 5755575, 5756575, 5757575, 5758575, 5759575, 5850585, 5851585, 5852585, 5853585, 5854585, 5855585, 5856585, 5857585, 5858585, 5859585, 5950595, 5951595, 5952595, 5953595, 5954595, 5955595, 5956595, 5957595, 5958595, 5959595, 6060606, 6061606, 6062606, 6063606, 6064606, 6065606, 6066606, 6067606, 6068606, 6069606, 6160616, 6161616, 6162616, 6163616, 6164616, 6165616, 6166616, 6167616, 6168616, 6169616, 6260626, 6261626, 6262626, 6263626, 6264626, 6265626, 6266626, 6267626, 6268626, 6269626, 6360636, 6361636, 6362636, 6363636, 6364636, 6365636, 6366636, 6367636, 6368636, 6369636, 6460646, 6461646, 6462646, 6463646, 6464646, 6465646, 6466646, 6467646, 6468646, 6469646, 6560656, 6561656, 6562656, 6563656, 6564656, 6565656, 6566656, 6567656, 6568656, 6569656, 6660666, 6661666, 6662666, 6663666, 6664666, 6665666, 6666666, 6667666, 6668666, 6669666, 6760676, 6761676, 6762676, 6763676, 6764676, 6765676, 6766676, 6767676, 6768676, 6769676, 6860686, 6861686, 6862686, 6863686, 6864686, 6865686, 6866686, 6867686, 6868686, 6869686, 6960696, 6961696, 6962696, 6963696, 6964696, 6965696, 6966696, 6967696, 6968696, 6969696, 7070707, 7071707, 7072707, 7073707, 7074707, 7075707, 7076707, 7077707, 7078707, 7079707, 7170717, 7171717, 7172717, 7173717, 7174717, 7175717, 7176717, 7177717, 7178717, 7179717, 7270727, 7271727, 7272727, 7273727, 7274727, 7275727, 7276727, 7277727, 7278727, 7279727, 7370737, 7371737, 7372737, 7373737, 7374737, 7375737, 7376737, 7377737, 7378737, 7379737, 7470747, 7471747, 7472747, 7473747, 7474747, 7475747, 7476747, 7477747, 7478747, 7479747, 7570757, 7571757, 7572757, 7573757, 7574757, 7575757, 7576757, 7577757, 7578757, 7579757, 7670767, 7671767, 7672767, 7673767, 7674767, 7675767, 7676767, 7677767, 7678767, 7679767, 7770777, 7771777, 7772777, 7773777, 7774777, 7775777, 7776777, 7777777, 7778777, 7779777, 7870787, 7871787, 7872787, 7873787, 7874787, 7875787, 7876787, 7877787, 7878787, 7879787, 7970797, 7971797, 7972797, 7973797, 7974797, 7975797, 7976797, 7977797, 7978797, 7979797, 8080808, 8081808, 8082808, 8083808, 8084808, 8085808, 8086808, 8087808, 8088808, 8089808, 8180818, 8181818, 8182818, 8183818, 8184818, 8185818, 8186818, 8187818, 8188818, 8189818, 8280828, 8281828, 8282828, 8283828, 8284828, 8285828, 8286828, 8287828, 8288828, 8289828, 8380838, 8381838, 8382838, 8383838, 8384838, 8385838, 8386838, 8387838, 8388838, 8389838, 8480848, 8481848, 8482848, 8483848, 8484848, 8485848, 8486848, 8487848, 8488848, 8489848, 8580858, 8581858, 8582858, 8583858, 8584858, 8585858, 8586858, 8587858, 8588858, 8589858, 8680868, 8681868, 8682868, 8683868, 8684868, 8685868, 8686868, 8687868, 8688868, 8689868, 8780878, 8781878, 8782878, 8783878, 8784878, 8785878, 8786878, 8787878, 8788878, 8789878, 8880888, 8881888, 8882888, 8883888, 8884888, 8885888, 8886888, 8887888, 8888888, 8889888, 8980898, 8981898, 8982898, 8983898, 8984898, 8985898, 8986898, 8987898, 8988898, 8989898, 9090909, 9091909, 9092909, 9093909, 9094909, 9095909, 9096909, 9097909, 9098909, 9099909, 9190919, 9191919, 9192919, 9193919, 9194919, 9195919, 9196919, 9197919, 9198919, 9199919, 9290929, 9291929, 9292929, 9293929, 9294929, 9295929, 9296929, 9297929, 9298929, 9299929, 9390939, 9391939, 9392939, 9393939, 9394939, 9395939, 9396939, 9397939, 9398939, 9399939, 9490949, 9491949, 9492949, 9493949, 9494949, 9495949, 9496949, 9497949, 9498949, 9499949, 9590959, 9591959, 9592959, 9593959, 9594959, 9595959, 9596959, 9597959, 9598959, 9599959, 9690969, 9691969, 9692969, 9693969, 9694969, 9695969, 9696969, 9697969, 9698969, 9699969, 9790979, 9791979, 9792979, 9793979, 9794979, 9795979, 9796979, 9797979, 9798979, 9799979, 9890989, 9891989, 9892989, 9893989, 9894989, 9895989, 9896989, 9897989, 9898989, 9899989, 9990999, 9991999, 9992999, 9993999, 9994999, 9995999, 9996999, 9997999, 9998999, 9999999]\n",
      "There are 900 of them!\n"
     ]
    }
   ],
   "source": [
    "pal7 = []\n",
    "for p in pal3:\n",
    "    for l in range(0,10):\n",
    "        plp = str(p) + str(l) + str(p)\n",
    "        pal7.append(int(plp))\n",
    "print(pal7)\n",
    "print('There are', len(pal7), 'of them!')"
   ]
  },
  {
   "cell_type": "markdown",
   "metadata": {},
   "source": [
    "## That  is it! ##"
   ]
  },
  {
   "cell_type": "code",
   "execution_count": null,
   "metadata": {
    "collapsed": true
   },
   "outputs": [],
   "source": [
    "#1010101 1011101 1012101 1013101 1014101"
   ]
  }
 ],
 "metadata": {
  "kernelspec": {
   "display_name": "Python 3",
   "language": "python",
   "name": "python3"
  },
  "language_info": {
   "codemirror_mode": {
    "name": "ipython",
    "version": 3
   },
   "file_extension": ".py",
   "mimetype": "text/x-python",
   "name": "python",
   "nbconvert_exporter": "python",
   "pygments_lexer": "ipython3",
   "version": "3.4.3+"
  }
 },
 "nbformat": 4,
 "nbformat_minor": 1
}
