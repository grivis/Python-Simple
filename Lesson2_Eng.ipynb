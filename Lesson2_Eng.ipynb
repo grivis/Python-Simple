{
 "cells": [
  {
   "cell_type": "markdown",
   "metadata": {},
   "source": [
    "# Lesson 2 #"
   ]
  },
  {
   "cell_type": "markdown",
   "metadata": {},
   "source": [
    "## Palindromes ##"
   ]
  },
  {
   "cell_type": "markdown",
   "metadata": {},
   "source": [
    "A palindrome is a word, phrase, number, or other sequence of characters which reads the same backward or forward, such as **madam** or **kayak**. Sentence-length palindromes may be written when allowances are made for adjustments to capital letters, punctuation, and word dividers, such as \"A man, a plan, a canal, Panama!\", \"Was it a car or a cat I saw?\""
   ]
  },
  {
   "cell_type": "markdown",
   "metadata": {},
   "source": [
    "Numbers can be palindromic too. A palindromic number or numeral palindrome is a number that remains the same when its digits are reversed. Like 16461, for example, it is \"symmetrical\". The term palindromic is derived from palindrome, which refers to a word (such as rotor or \"racecar\" or even \"Malayalam\") whose spelling is unchanged when its letters are reversed. The first 30 palindromic numbers are:"
   ]
  },
  {
   "cell_type": "markdown",
   "metadata": {},
   "source": [
    "**0, 1, 2, 3, 4, 5, 6, 7, 8, 9, 11, 22, 33, 44, 55, 66, 77, 88, 99, 101, 111, 121, 131, 141, 151, 161, 171, 181, 191, 202, … **"
   ]
  },
  {
   "cell_type": "markdown",
   "metadata": {},
   "source": [
    "How do we find all palindromic numbers within a certain range?"
   ]
  },
  {
   "cell_type": "markdown",
   "metadata": {},
   "source": [
    "In Python we can use the range() function. This function takes three parameters: START, STOP and STEP. It produces (returns) a series of values from START to nearly STOP with the given STEP. *Nearly* here means that range() actually stops immediately before the STOP. Let's have a look at a simple example:"
   ]
  },
  {
   "cell_type": "code",
   "execution_count": 16,
   "metadata": {
    "collapsed": false
   },
   "outputs": [
    {
     "name": "stdout",
     "output_type": "stream",
     "text": [
      "1 3 5 7 9 "
     ]
    }
   ],
   "source": [
    "for i in range(1, 10, 2):\n",
    "    print(i, end=' ')"
   ]
  },
  {
   "cell_type": "markdown",
   "metadata": {},
   "source": [
    "Please note, that 10 is not included! Range() *never* includes the value, given as STOP. Just like a slice of a list or a string do!"
   ]
  },
  {
   "cell_type": "markdown",
   "metadata": {},
   "source": [
    "So, we return to palindromic numbers, or simply palyndromes. We use a range() function to go through a series of numbers. For every number, we check if this number is a palindrome. How do we do that?"
   ]
  },
  {
   "cell_type": "code",
   "execution_count": 12,
   "metadata": {
    "collapsed": false,
    "scrolled": true
   },
   "outputs": [
    {
     "name": "stdout",
     "output_type": "stream",
     "text": [
      "It's a palindrome!\n"
     ]
    }
   ],
   "source": [
    "a = 1221\n",
    "astr = str(a)\n",
    "#The rest of the code here"
   ]
  },
  {
   "cell_type": "markdown",
   "metadata": {},
   "source": [
    "Now we simply put the above code inside a cycle using range() and print out every number that turns out to be palindromic."
   ]
  },
  {
   "cell_type": "code",
   "execution_count": 30,
   "metadata": {
    "collapsed": false,
    "scrolled": true
   },
   "outputs": [
    {
     "ename": "SyntaxError",
     "evalue": "unexpected EOF while parsing (<ipython-input-30-0f15f5e55a44>, line 3)",
     "output_type": "error",
     "traceback": [
      "\u001b[0;36m  File \u001b[0;32m\"<ipython-input-30-0f15f5e55a44>\"\u001b[0;36m, line \u001b[0;32m3\u001b[0m\n\u001b[0;31m    \u001b[0m\n\u001b[0m    ^\u001b[0m\n\u001b[0;31mSyntaxError\u001b[0m\u001b[0;31m:\u001b[0m unexpected EOF while parsing\n"
     ]
    }
   ],
   "source": [
    "for a in range(1,100):\n",
    "    #The rest of the code here\n",
    "    "
   ]
  },
  {
   "cell_type": "markdown",
   "metadata": {},
   "source": [
    "Our code produces the same sequence, we saw in the very beginning of the lesson! And what's the problem? As a matter of fact, this algorithm (the method to produce the result) becomes too slow, when we decide to find all palindroms from 1 to one million. That is, to produce all two, three, four, five and six digits long palindromes. Some creative approach is necessary. Can we imagine one?"
   ]
  },
  {
   "cell_type": "markdown",
   "metadata": {},
   "source": [
    "Yes, we can! How do we do that? We take a 2-digit number, convert it to string, invert it and concatenate (join) it with the original number. Then we convert the result into integer number again. And here comes a new 4-digit palindrome!"
   ]
  },
  {
   "cell_type": "markdown",
   "metadata": {},
   "source": [
    "Let's go! First, we make a list of all 2-digit palindromes:"
   ]
  },
  {
   "cell_type": "code",
   "execution_count": 28,
   "metadata": {
    "collapsed": false,
    "scrolled": true
   },
   "outputs": [
    {
     "name": "stdout",
     "output_type": "stream",
     "text": [
      "[]\n",
      "There are 0 of them!\n"
     ]
    }
   ],
   "source": [
    "pal2 = []\n",
    "#The rest of the code here!\n",
    "print(pal2)\n",
    "print('There are', len(pal2), 'of them!')"
   ]
  },
  {
   "cell_type": "markdown",
   "metadata": {},
   "source": [
    "Then we do the rest"
   ]
  },
  {
   "cell_type": "code",
   "execution_count": 31,
   "metadata": {
    "collapsed": false
   },
   "outputs": [
    {
     "name": "stdout",
     "output_type": "stream",
     "text": [
      "[]\n",
      "There are 0 of them!\n"
     ]
    }
   ],
   "source": [
    "pal4 = []\n",
    "#The rest of the code here\n",
    "print(pal4)\n",
    "print('There are', len(pal4), 'of them!')"
   ]
  },
  {
   "cell_type": "markdown",
   "metadata": {},
   "source": [
    "Now we have a complete list of all palindromic numbers, that consist of four digits exactly. But it seems we have skipped 3-digit palindromes. How do we make them? And now we want to produce the list from the very beginning, without have a list of 2-digits palindromes prepared before. Is that possible?"
   ]
  },
  {
   "cell_type": "markdown",
   "metadata": {},
   "source": [
    "Yes, it is! We need to use nested cycles - one cycle inside of another. The first, outer cycle, will produce the first and the last digits - they must be the same! The second, inner cycle, will produce the middle digits. They must be in the 0..9 range. Here we go:"
   ]
  },
  {
   "cell_type": "code",
   "execution_count": 32,
   "metadata": {
    "collapsed": false,
    "scrolled": true
   },
   "outputs": [
    {
     "name": "stdout",
     "output_type": "stream",
     "text": [
      "[]\n",
      "There are 0 of them!\n"
     ]
    }
   ],
   "source": [
    "pal3 = []\n",
    "#The rest of the code here!\n",
    "print(pal3)\n",
    "print('There are', len(pal3), 'of them!')"
   ]
  },
  {
   "cell_type": "markdown",
   "metadata": {},
   "source": [
    "Now we have a working code that makes a list of all 3-digit palindromes. And we have got the whole idea - how to make palindromes. Consisting of two, three and four digits. And of course we are able to extend the algorithm to write a code that will give us five and six and even longer palindromes. Please note, these pieces of code run much faster compared to the code in the beginning of the lesson. Because we don't check all the numbers in a range, most of which are not palindromes at all!"
   ]
  },
  {
   "cell_type": "markdown",
   "metadata": {},
   "source": [
    "To finish with this lesson, let's make a program that takes a list of 3-digits palindrome and makes the list of 7-digits palindromes. That is numbers up to 10 millions!"
   ]
  },
  {
   "cell_type": "code",
   "execution_count": 33,
   "metadata": {
    "collapsed": false
   },
   "outputs": [
    {
     "name": "stdout",
     "output_type": "stream",
     "text": [
      "[]\n",
      "There are 0 of them!\n"
     ]
    }
   ],
   "source": [
    "pal7 = []\n",
    "#The rest of the code here\n",
    "print(pal7)\n",
    "print('There are', len(pal7), 'of them!')"
   ]
  },
  {
   "cell_type": "markdown",
   "metadata": {},
   "source": [
    "## That  is it! ##"
   ]
  },
  {
   "cell_type": "code",
   "execution_count": null,
   "metadata": {
    "collapsed": true
   },
   "outputs": [],
   "source": []
  }
 ],
 "metadata": {
  "kernelspec": {
   "display_name": "Python 3",
   "language": "python",
   "name": "python3"
  },
  "language_info": {
   "codemirror_mode": {
    "name": "ipython",
    "version": 3
   },
   "file_extension": ".py",
   "mimetype": "text/x-python",
   "name": "python",
   "nbconvert_exporter": "python",
   "pygments_lexer": "ipython3",
   "version": "3.4.3+"
  }
 },
 "nbformat": 4,
 "nbformat_minor": 1
}
