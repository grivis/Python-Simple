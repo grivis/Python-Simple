{
 "cells": [
  {
   "cell_type": "markdown",
   "metadata": {},
   "source": [
    "<h1 style=\"color:red;\">Pizza of the day</h1>"
   ]
  },
  {
   "cell_type": "markdown",
   "metadata": {},
   "source": [
    "<img src=\"pizzadaily.png\" width=\"40%\">"
   ]
  },
  {
   "cell_type": "markdown",
   "metadata": {},
   "source": [
    "<i>Mario's Pizzeria</i> delivers pizzas in the neighbourhood. Mario, the owner, wants his pizzas to be different every day. He needs a computer program that will suggest 3-4 <strong>different</strong> toppings every day. "
   ]
  },
  {
   "cell_type": "markdown",
   "metadata": {
    "collapsed": true
   },
   "source": [
    "First obvious thing is to make a list of popular toppings. And create the object in Python:"
   ]
  },
  {
   "cell_type": "code",
   "execution_count": 1,
   "metadata": {
    "collapsed": true
   },
   "outputs": [],
   "source": [
    "topps = ['Pepperoni', 'Sausage', 'Mushroom', 'Cheese', 'Onions', 'Bacon', 'Ham','Pineapple', 'Peppers', 'Olives']"
   ]
  },
  {
   "cell_type": "markdown",
   "metadata": {},
   "source": [
    "Now we have a list in Python, that contains some of most popular toppings. Every topping in the list has its number:"
   ]
  },
  {
   "cell_type": "code",
   "execution_count": 2,
   "metadata": {
    "collapsed": false
   },
   "outputs": [
    {
     "name": "stdout",
     "output_type": "stream",
     "text": [
      "The list contains 10 toppings\n",
      "['Pepperoni', 'Sausage', 'Mushroom', 'Cheese', 'Onions', 'Bacon', 'Ham', 'Pineapple', 'Peppers', 'Olives']\n"
     ]
    }
   ],
   "source": [
    "print('The list contains', len(topps), 'toppings')\n",
    "print(topps)"
   ]
  },
  {
   "cell_type": "markdown",
   "metadata": {},
   "source": [
    "A goood solution is to use <code>random</code> module and its <code>random.randint(a,b)<code> function. Please note: we need 10 random numbers, but none of them can be greater than 9. And before we can use random functions we need to <i>initialize</i> the generator with <code>random.seed()</code> "
   ]
  },
  {
   "cell_type": "code",
   "execution_count": 6,
   "metadata": {
    "collapsed": false,
    "scrolled": true
   },
   "outputs": [
    {
     "name": "stdout",
     "output_type": "stream",
     "text": [
      "3 5 3 1 8 1 1 7 5 5 "
     ]
    }
   ],
   "source": [
    "import random\n",
    "random.seed()\n",
    "for i in range(10):\n",
    "    print(random.randint(0,9), end=' ')"
   ]
  },
  {
   "cell_type": "markdown",
   "metadata": {},
   "source": [
    "But here we can see a problem: random numbers are not very much random. They tend to repeat even within a short range. Every time we run the generator it gives 2-3 'doubles'. This is bad news for us! We need all toppings to be different. Mario's clients do not want pizzas with 'double' toppings. "
   ]
  },
  {
   "cell_type": "markdown",
   "metadata": {},
   "source": [
    "What do we do? We need a <strong>unique</strong> set of random numbers. We need to use <strong>SETS</strong>."
   ]
  },
  {
   "cell_type": "markdown",
   "metadata": {},
   "source": [
    "In mathematics, a <strong>set is a collection of distinct objects</strong>, considered as an object in its own right. For example, the numbers 2, 4, and 6 are distinct objects when considered separately, but when they are considered collectively they form a single set of size three, written {2,4,6}. Please note the word <string>distinct</strong>. It's a keyword here! No two objects in a set can be the same!"
   ]
  },
  {
   "cell_type": "markdown",
   "metadata": {},
   "source": [
    "<img src=\"setexample.png\" width=\"30%\">"
   ]
  },
  {
   "cell_type": "markdown",
   "metadata": {},
   "source": [
    "Sets are used in many programming languages. In Python a set is sequence, which elements are always distinct, but the are not numbered. We can not call <i>a set element number three</i>."
   ]
  },
  {
   "cell_type": "markdown",
   "metadata": {},
   "source": [
    "We can make a set out of a string, for example. We can add elements later. But if we decide to add aan element, that already exists in the set, it will simply reject it. No doubles!"
   ]
  },
  {
   "cell_type": "code",
   "execution_count": 9,
   "metadata": {
    "collapsed": false
   },
   "outputs": [
    {
     "name": "stdout",
     "output_type": "stream",
     "text": [
      "{'r', 'g', 't', 'n', 'i', 'a', 'm', 's', 'f', 'h', 'e', 'c', 'j', 'v', 'd', 'z', 'k', 'l', 'p', 'w', 'u', 'o', 'y', 'x', 'q', 'b'}\n",
      "{'r', 'g', 't', 'n', 'i', 'a', 'm', 's', 'f', 'h', 'e', 'c', 'j', 'v', 'A', 'd', 'z', 'k', 'l', 'p', 'w', 'u', 'o', 'y', 'x', 'q', 'b'}\n"
     ]
    }
   ],
   "source": [
    "abcset = set('abcdefghijklmnopqrstuvwxyz')\n",
    "print(abcset)\n",
    "abcset.add('A')\n",
    "print(abcset)"
   ]
  },
  {
   "cell_type": "code",
   "execution_count": 10,
   "metadata": {
    "collapsed": false
   },
   "outputs": [
    {
     "name": "stdout",
     "output_type": "stream",
     "text": [
      "27\n",
      "{'r', 'g', 't', 'n', 'i', 'a', 'm', 's', 'f', 'h', 'e', 'c', 'j', 'v', 'A', 'd', 'z', 'k', 'l', 'p', 'w', 'u', 'o', 'y', 'x', 'q', 'b'}\n",
      "27\n"
     ]
    }
   ],
   "source": [
    "print(len(abcset))\n",
    "abcset.add('a')\n",
    "print(abcset)\n",
    "print(len(abcset))"
   ]
  },
  {
   "cell_type": "markdown",
   "metadata": {},
   "source": [
    "So, we now have an instrument to make a collection of really distinct random numbers! And we can make pizzas with different toppings."
   ]
  },
  {
   "cell_type": "markdown",
   "metadata": {},
   "source": [
    "We are going to run random generator as long as necessary to make a set of 4 different random numbers"
   ]
  },
  {
   "cell_type": "code",
   "execution_count": 36,
   "metadata": {
    "collapsed": false
   },
   "outputs": [],
   "source": [
    "#Your code here!"
   ]
  },
  {
   "cell_type": "markdown",
   "metadata": {},
   "source": [
    "And and now we can produce a list of toppings for the day. We will use random numbers from the set to 'pull out' toppings' namees from the 'big' list of ten toppings."
   ]
  },
  {
   "cell_type": "code",
   "execution_count": 37,
   "metadata": {
    "collapsed": false,
    "scrolled": true
   },
   "outputs": [],
   "source": [
    "#Your code here!"
   ]
  },
  {
   "cell_type": "markdown",
   "metadata": {},
   "source": [
    "Let's now gather the whole program together, so we could give it to Mario:"
   ]
  },
  {
   "cell_type": "code",
   "execution_count": 38,
   "metadata": {
    "collapsed": false,
    "scrolled": true
   },
   "outputs": [],
   "source": [
    "#Your code here! Collect all statements and make a program"
   ]
  },
  {
   "cell_type": "markdown",
   "metadata": {},
   "source": [
    "But can we make our program more useful? Can we produce lists of toppings in advance, for the whole week? Yes, we can! First of all, we need a list of days of week:"
   ]
  },
  {
   "cell_type": "code",
   "execution_count": 31,
   "metadata": {
    "collapsed": true
   },
   "outputs": [],
   "source": [
    "days = ['Monday', 'Tuesday', 'Wednesday', 'Thirsday', 'Friday', 'Saurday', 'Sunday']"
   ]
  },
  {
   "cell_type": "code",
   "execution_count": 39,
   "metadata": {
    "collapsed": false
   },
   "outputs": [],
   "source": [
    "#Your code here! Make a program that will produce 7 lists of toppings for every day"
   ]
  },
  {
   "cell_type": "markdown",
   "metadata": {},
   "source": [
    "<h2 style=\"color:green;\">Congratulations and many thanks from Mario!</h2>\n",
    "He can be back to his work and make new pizzas! Which one for you?"
   ]
  },
  {
   "cell_type": "markdown",
   "metadata": {},
   "source": [
    "<img src='mariopizzeria.png' width=\"30%\">"
   ]
  },
  {
   "cell_type": "code",
   "execution_count": null,
   "metadata": {
    "collapsed": true
   },
   "outputs": [],
   "source": []
  }
 ],
 "metadata": {
  "kernelspec": {
   "display_name": "Python 3",
   "language": "python",
   "name": "python3"
  },
  "language_info": {
   "codemirror_mode": {
    "name": "ipython",
    "version": 3
   },
   "file_extension": ".py",
   "mimetype": "text/x-python",
   "name": "python",
   "nbconvert_exporter": "python",
   "pygments_lexer": "ipython3",
   "version": "3.4.3+"
  }
 },
 "nbformat": 4,
 "nbformat_minor": 1
}
