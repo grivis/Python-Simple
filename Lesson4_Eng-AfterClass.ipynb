{
 "cells": [
  {
   "cell_type": "markdown",
   "metadata": {},
   "source": [
    "<h1 style=\"color:red;\">Dictionaries in Python. Part one</h1>"
   ]
  },
  {
   "cell_type": "markdown",
   "metadata": {},
   "source": [
    "Dictionaries in Python are like dictionaries of human languages. If you know one word (the key) you can look up another word (the value)"
   ]
  },
  {
   "cell_type": "markdown",
   "metadata": {},
   "source": [
    "In Python keys may be strings and numbers as well."
   ]
  },
  {
   "cell_type": "code",
   "execution_count": 1,
   "metadata": {
    "collapsed": true
   },
   "outputs": [],
   "source": [
    "DaysDic = {}"
   ]
  },
  {
   "cell_type": "markdown",
   "metadata": {},
   "source": [
    "We have just defined an empty dictionary, into which we are going to put days of week and their numbers:"
   ]
  },
  {
   "cell_type": "code",
   "execution_count": 6,
   "metadata": {
    "collapsed": true
   },
   "outputs": [],
   "source": [
    "DaysDic[1] = 'Monday'\n",
    "DaysDic[2] = 'Tuesday'\n",
    "DaysDic[3] = 'Wednesday'"
   ]
  },
  {
   "cell_type": "markdown",
   "metadata": {},
   "source": [
    "Now we can get the name of the day if we know it's number in a week:"
   ]
  },
  {
   "cell_type": "code",
   "execution_count": 7,
   "metadata": {
    "collapsed": false
   },
   "outputs": [
    {
     "name": "stdout",
     "output_type": "stream",
     "text": [
      "Wednesday\n"
     ]
    }
   ],
   "source": [
    "print(DaysDic[3])"
   ]
  },
  {
   "cell_type": "markdown",
   "metadata": {},
   "source": [
    "A dictionary hence consists of pairs - key:value. A dictionary can be built from two lists, using zip() and dict() functions:"
   ]
  },
  {
   "cell_type": "code",
   "execution_count": 9,
   "metadata": {
    "collapsed": true
   },
   "outputs": [],
   "source": [
    "nums = [1, 2, 3, 4, 5, 6, 7]\n",
    "days = ['Monday', 'Tuesday', 'Wednesday', 'Thursday', 'Friday', 'Saturday', 'Sunday']"
   ]
  },
  {
   "cell_type": "code",
   "execution_count": 10,
   "metadata": {
    "collapsed": false
   },
   "outputs": [],
   "source": [
    "DaysDic = dict(zip(days, nums))"
   ]
  },
  {
   "cell_type": "code",
   "execution_count": 14,
   "metadata": {
    "collapsed": false
   },
   "outputs": [
    {
     "name": "stdout",
     "output_type": "stream",
     "text": [
      "3\n"
     ]
    }
   ],
   "source": [
    "print(DaysDic['Wednesday'])"
   ]
  },
  {
   "cell_type": "markdown",
   "metadata": {},
   "source": [
    "Now we need to build 'reversed' dictionary, to get the number of the day using its name"
   ]
  },
  {
   "cell_type": "code",
   "execution_count": 16,
   "metadata": {
    "collapsed": false
   },
   "outputs": [
    {
     "name": "stdout",
     "output_type": "stream",
     "text": [
      "1 : Monday\n",
      "2 : Tuesday\n",
      "3 : Wednesday\n",
      "4 : Thursday\n",
      "5 : Friday\n",
      "6 : Saturday\n",
      "7 : Sunday\n"
     ]
    }
   ],
   "source": [
    "DaysDic = dict(zip(nums, days))\n",
    "for key, value in DaysDic.items():\n",
    "    print(key, ':', value)"
   ]
  },
  {
   "cell_type": "markdown",
   "metadata": {},
   "source": [
    "Dictionaries can be used to translate words of human languages. For example, names of the week days:"
   ]
  },
  {
   "cell_type": "code",
   "execution_count": 18,
   "metadata": {
    "collapsed": true
   },
   "outputs": [],
   "source": [
    "english = ['monday', 'tuesday', 'wednesday', 'thirsday', 'friday', 'saturday', 'sunday']\n",
    "russian = ['понедельник', 'вторник', 'среда', 'четверг', 'пятница', 'суббота', 'воскресенье']\n",
    "spanish = ['lunes', 'martes', 'miércoles', 'jueves','viernes', 'sábado', 'domingo']\n",
    "greek = ['Δευτέρα', 'Τρίτη', 'Τετάρτη', 'Πέμπτη', 'Παρασκευή', 'Σάββατο', 'Κυριακή']"
   ]
  },
  {
   "cell_type": "markdown",
   "metadata": {},
   "source": [
    "How do we make a dictionary to translate english names in greek names?"
   ]
  },
  {
   "cell_type": "code",
   "execution_count": 19,
   "metadata": {
    "collapsed": false
   },
   "outputs": [
    {
     "name": "stdout",
     "output_type": "stream",
     "text": [
      "monday   Δευτέρα\n",
      "wednesday   Τετάρτη\n",
      "saturday   Σάββατο\n",
      "thirsday   Πέμπτη\n",
      "sunday   Κυριακή\n",
      "tuesday   Τρίτη\n",
      "friday   Παρασκευή\n"
     ]
    }
   ],
   "source": [
    "EngGre = dict(zip(english, greek))\n",
    "for key, value in EngGre.items():\n",
    "    print(key, ' ', value)"
   ]
  },
  {
   "cell_type": "markdown",
   "metadata": {},
   "source": [
    "And now - Spanish names into Russian?"
   ]
  },
  {
   "cell_type": "code",
   "execution_count": 20,
   "metadata": {
    "collapsed": false
   },
   "outputs": [
    {
     "name": "stdout",
     "output_type": "stream",
     "text": [
      "jueves   четверг\n",
      "viernes   пятница\n",
      "domingo   воскресенье\n",
      "sábado   суббота\n",
      "miércoles   среда\n",
      "martes   вторник\n",
      "lunes   понедельник\n"
     ]
    }
   ],
   "source": [
    "SpaRus = dict(zip(spanish, russian))\n",
    "for key, value in SpaRus.items():\n",
    "    print(key, ' ', value)"
   ]
  },
  {
   "cell_type": "markdown",
   "metadata": {},
   "source": [
    "Dictionaries can be used to encrypt texts, so that no one will be able to read  it. For example, we can replace every letter in a text with some other letter. But if we know, which letters were replaced by which, we can decrypt the text back."
   ]
  },
  {
   "cell_type": "markdown",
   "metadata": {},
   "source": [
    "First we make a dictionary to replace initial letters with  some other letters. English letters with Greek, for example:"
   ]
  },
  {
   "cell_type": "code",
   "execution_count": 3,
   "metadata": {
    "collapsed": false,
    "scrolled": true
   },
   "outputs": [],
   "source": [
    "\n",
    "gre = 'αβγδϵζηθικλμνξοπρστυϕχψωΨΩ'\n",
    "eng = 'abcdefghijklmnopqrstuvwxyz'\n",
    "\n",
    "#Rest of the code"
   ]
  },
  {
   "cell_type": "markdown",
   "metadata": {},
   "source": [
    "And now we write the code that will encrypt a message:"
   ]
  },
  {
   "cell_type": "code",
   "execution_count": 4,
   "metadata": {
    "collapsed": false
   },
   "outputs": [],
   "source": [
    "text = 'this text is now readable, because it is not encrypted'\n",
    "# Rest of the code\n",
    "\n",
    "    "
   ]
  },
  {
   "cell_type": "markdown",
   "metadata": {},
   "source": [
    "Finally, we make a dictionary and write a code to decrypte the message back:"
   ]
  },
  {
   "cell_type": "code",
   "execution_count": 5,
   "metadata": {
    "collapsed": false
   },
   "outputs": [],
   "source": [
    "gre = 'αβγδϵζηθικλμνξοπρστυϕχψωΨΩ ,'\n",
    "eng = 'abcdefghijklmnopqrstuvwxyz ,'\n",
    "# Rest of the code"
   ]
  },
  {
   "cell_type": "markdown",
   "metadata": {},
   "source": [
    "<h2 style=\"color:red;\">That's it for this evening!</h2>"
   ]
  },
  {
   "cell_type": "code",
   "execution_count": null,
   "metadata": {
    "collapsed": true
   },
   "outputs": [],
   "source": []
  }
 ],
 "metadata": {
  "kernelspec": {
   "display_name": "Python 3",
   "language": "python",
   "name": "python3"
  },
  "language_info": {
   "codemirror_mode": {
    "name": "ipython",
    "version": 3
   },
   "file_extension": ".py",
   "mimetype": "text/x-python",
   "name": "python",
   "nbconvert_exporter": "python",
   "pygments_lexer": "ipython3",
   "version": "3.4.3+"
  }
 },
 "nbformat": 4,
 "nbformat_minor": 1
}
