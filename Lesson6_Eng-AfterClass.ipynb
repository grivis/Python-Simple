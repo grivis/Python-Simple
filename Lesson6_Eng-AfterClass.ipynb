{
 "cells": [
  {
   "cell_type": "markdown",
   "metadata": {},
   "source": [
    "<h1 style=\"color:red;\">Password Generator</h1>"
   ]
  },
  {
   "cell_type": "markdown",
   "metadata": {},
   "source": [
    "Many Internet users today register themselves in various on-line services. To protect frrom 'bad guys' who try to steal your information, it is very important to use quality passwords. Passwords, that are hard to guess. Quality passwords will not contain any names or dictionary words (like home, city, street...). Passwords must contain random symbols and digits. In order not to waste time when we are prompted  to enter a password, we will write a program that generates quality passwords."
   ]
  },
  {
   "cell_type": "markdown",
   "metadata": {},
   "source": [
    "First, we are going to write down template strings that we will later use to take random symbols from."
   ]
  },
  {
   "cell_type": "code",
   "execution_count": 1,
   "metadata": {
    "collapsed": true
   },
   "outputs": [],
   "source": [
    "caps = 'ABCDEFGHIJKLMNOPQRSTUVWXYZ'\n",
    "smalls = 'abcdefghijklmnopqrstuvwxyz'\n",
    "digits = '0123456789'\n",
    "signs = '$#&%?!-+@:'"
   ]
  },
  {
   "cell_type": "markdown",
   "metadata": {},
   "source": [
    "Now we need to recall how random numbers generator works. We are going to use it several times in our code to choose letters, digits and signs..."
   ]
  },
  {
   "cell_type": "code",
   "execution_count": 5,
   "metadata": {
    "collapsed": false
   },
   "outputs": [
    {
     "name": "stdout",
     "output_type": "stream",
     "text": [
      "0 9 9 1\n",
      "Aj0#\n"
     ]
    }
   ],
   "source": [
    "import random\n",
    "random.seed()\n",
    "x1 = random.randrange(0, 26)\n",
    "x2 = random.randrange(0, 26)\n",
    "x3 = random.randrange(0, 10)\n",
    "x4 = random.randrange(0, 10)\n",
    "print (x1, x2, x3, x4)\n",
    "string = caps[x1] + smalls[x2] + digits[x3] + signs[x4]\n",
    "print (string)"
   ]
  },
  {
   "cell_type": "markdown",
   "metadata": {},
   "source": [
    "We don't want letters and signs in our passwords to repeat. All symbols in a password must be unique! That is why we are going to use sets. As we know, sets can contain unique elements only. If we try to put a symbol in a set repeatedly, the set will simply discard it! We will repeat the loop as long as necessary until out set will be long enough. 10 symbols or more..."
   ]
  },
  {
   "cell_type": "code",
   "execution_count": 16,
   "metadata": {
    "collapsed": false
   },
   "outputs": [
    {
     "name": "stdout",
     "output_type": "stream",
     "text": [
      "E6i!Nb$e2X1%-\n"
     ]
    }
   ],
   "source": [
    "import random\n",
    "random.seed()\n",
    "passwset = set()\n",
    "length = 12\n",
    "while len(passwset) < length:\n",
    "    x1 = random.randrange(0, 26)\n",
    "    x2 = random.randrange(0, 26)\n",
    "    x3 = random.randrange(0, 10)\n",
    "    x4 = random.randrange(0, 10)\n",
    "    passwset.add (caps[x1])\n",
    "    passwset.add (smalls[x2]) \n",
    "    passwset.add (digits[x3]) \n",
    "    passwset.add (signs[x4])\n",
    "\n",
    "password = ''.join(passwset) \n",
    "print (password)\n"
   ]
  },
  {
   "cell_type": "markdown",
   "metadata": {},
   "source": [
    "And now we can combine all the code together in a single function that returns quality password of a given length..."
   ]
  },
  {
   "cell_type": "code",
   "execution_count": 4,
   "metadata": {
    "collapsed": true
   },
   "outputs": [],
   "source": [
    "#Your code here"
   ]
  },
  {
   "cell_type": "markdown",
   "metadata": {},
   "source": [
    "Next time we will rewrite our code to make our first GUI application!"
   ]
  },
  {
   "cell_type": "code",
   "execution_count": 5,
   "metadata": {
    "collapsed": true
   },
   "outputs": [],
   "source": [
    "#Your code here"
   ]
  },
  {
   "cell_type": "markdown",
   "metadata": {},
   "source": [
    "<h3 style=\"color:darkblue;\">That's all for today!</h3>"
   ]
  },
  {
   "cell_type": "code",
   "execution_count": 13,
   "metadata": {
    "collapsed": false
   },
   "outputs": [
    {
     "name": "stdout",
     "output_type": "stream",
     "text": [
      "acde\n"
     ]
    }
   ],
   "source": [
    "z = ['a', 'c', 'd', 'e']\n",
    "zstr = ''.join(z)\n",
    "\n",
    "print(zstr)"
   ]
  },
  {
   "cell_type": "code",
   "execution_count": null,
   "metadata": {
    "collapsed": true
   },
   "outputs": [],
   "source": []
  },
  {
   "cell_type": "code",
   "execution_count": null,
   "metadata": {
    "collapsed": true
   },
   "outputs": [],
   "source": []
  }
 ],
 "metadata": {
  "kernelspec": {
   "display_name": "Python 3",
   "language": "python",
   "name": "python3"
  },
  "language_info": {
   "codemirror_mode": {
    "name": "ipython",
    "version": 3
   },
   "file_extension": ".py",
   "mimetype": "text/x-python",
   "name": "python",
   "nbconvert_exporter": "python",
   "pygments_lexer": "ipython3",
   "version": "3.4.3+"
  }
 },
 "nbformat": 4,
 "nbformat_minor": 1
}
