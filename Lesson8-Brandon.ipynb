{
 "cells": [
  {
   "cell_type": "markdown",
   "metadata": {},
   "source": [
    "<h1 style=\"color:red;\">How to bind Buttons And Functions Together?</h1>"
   ]
  },
  {
   "cell_type": "markdown",
   "metadata": {},
   "source": [
    "GUI programs should not only look great, but must perform certain useful actions. These actions must performed in responce to some user's actions. Pressing a button, user gives a 'graphic' command to the program to do something. This 'something' is done by a certain function. To make these steps work altogether, we have to use <strong>bind</strong> method."
   ]
  },
  {
   "cell_type": "markdown",
   "metadata": {},
   "source": [
    "<img src='bind.png' width='70%'>"
   ]
  },
  {
   "cell_type": "markdown",
   "metadata": {},
   "source": [
    "We have already seen an example of using 'bind' in a GUI application (see the previous lesson). Let's have a look at some more.."
   ]
  },
  {
   "cell_type": "code",
   "execution_count": 6,
   "metadata": {
    "collapsed": true
   },
   "outputs": [],
   "source": [
    "li = [\"red\",\"green\"]\n",
    "def color(event):  \n",
    "     fra.configure(bg=li[0])\n",
    "     li[0],li[1] = li[1],li[0]\n",
    "#Event handler\n",
    "def outgo(event):\n",
    "     root.destroy()\n",
    " \n",
    "from tkinter import *\n",
    "root = Tk()\n",
    " \n",
    "fra = Frame(root,width=100,height=100)\n",
    "but = Button(root,text=\"EXIT\")\n",
    " \n",
    "fra.pack()\n",
    "but.pack()\n",
    "\n",
    "\n",
    " \n",
    "root.bind(\"<Return>\",color)\n",
    "but.bind(\"<Button-1>\",outgo)\n",
    " \n",
    "root.mainloop()"
   ]
  },
  {
   "cell_type": "markdown",
   "metadata": {},
   "source": [
    "How can we change our program, so it should change color not by pressing RETURN, but clicking mouse on the coloured field?"
   ]
  },
  {
   "cell_type": "code",
   "execution_count": 10,
   "metadata": {
    "collapsed": false
   },
   "outputs": [],
   "source": [
    "li = [\"red\",\"green\"]\n",
    "def color(event):  \n",
    "     fra.configure(bg=li[0])\n",
    "     li[0],li[1] = li[1],li[0]\n",
    "#Event handler\n",
    "def outgo(event):\n",
    "     root.destroy()\n",
    " \n",
    "from tkinter import *\n",
    "root = Tk()\n",
    " \n",
    "fra = Frame(root,width=100,height=100)\n",
    "but = Button(root,text=\"EXIT\")\n",
    " \n",
    "fra.pack()\n",
    "but.pack()\n",
    "\n",
    "\n",
    " \n",
    "root.bind(\"<Button-1>\",color)\n",
    "but.bind(\"<Button-1>\",outgo)\n",
    " \n",
    "root.mainloop()"
   ]
  },
  {
   "cell_type": "markdown",
   "metadata": {},
   "source": [
    "Another window's property is it's size in pixels. It can be set programmatically. The property is 'windowname.geometry('300x300')'"
   ]
  },
  {
   "cell_type": "markdown",
   "metadata": {},
   "source": [
    "How do we make our main window larger or smaller? What is the difference between a window and a frame? "
   ]
  },
  {
   "cell_type": "code",
   "execution_count": 18,
   "metadata": {
    "collapsed": true
   },
   "outputs": [],
   "source": [
    "li = [\"red\",\"green\"]\n",
    "def color(event):  \n",
    "     fra.configure(bg=li[0])\n",
    "     li[0],li[1] = li[1],li[0]\n",
    "    \n",
    "def color2(event):  \n",
    "     fra2.configure(bg=li[0])\n",
    "     li[0],li[1] = li[1],li[0]\n",
    "#Event handler\n",
    "def outgo(event):\n",
    "     root.destroy()\n",
    " \n",
    "from tkinter import *\n",
    "root = Tk()\n",
    "root.geometry('300x250')\n",
    " \n",
    "fra = Frame(root,width=300,height=100)\n",
    "but = Button(root,text=\"EXIT\")\n",
    "fra2 = Frame(root,width=300,height=100)\n",
    " \n",
    "fra.pack()\n",
    "\n",
    "fra2.pack()\n",
    "but.pack()\n",
    "\n",
    "\n",
    " \n",
    "fra.bind(\"<Button-1>\",color)\n",
    "but.bind(\"<Button-1>\",outgo)\n",
    "fra2.bind(\"<Button-1>\",color2)\n",
    " \n",
    "root.mainloop()"
   ]
  },
  {
   "cell_type": "markdown",
   "metadata": {},
   "source": [
    "Now can we make three buttons: 'Large', 'Medium', 'Small' to control window size?"
   ]
  },
  {
   "cell_type": "code",
   "execution_count": 24,
   "metadata": {
    "collapsed": false
   },
   "outputs": [],
   "source": [
    "li = [\"red\",\"green\"]\n",
    "def color(event):  \n",
    "     fra.configure(bg=li[0])\n",
    "     li[0],li[1] = li[1],li[0]\n",
    "    \n",
    "def color2(event):  \n",
    "     fra2.configure(bg=li[0])\n",
    "     li[0],li[1] = li[1],li[0]\n",
    "#Event handler\n",
    "def outgo(event):\n",
    "     root.destroy()\n",
    "        \n",
    "def Small(event):\n",
    "    root.geometry('100x100')\n",
    "    fra.configure(width=100, height=10)\n",
    "    fra2.configure(width=100, height=10)\n",
    "    \n",
    "def Medium(event):\n",
    "    root.geometry('200x200')\n",
    "    fra.configure(width=200, height=20)\n",
    "    fra2.configure(width=200, height=20)\n",
    "    \n",
    "def Large(event):\n",
    "    root.geometry('300x400')\n",
    "    fra.configure(width=300, height=100)\n",
    "    fra2.configure(width=300, height=100)\n",
    " \n",
    "from tkinter import *\n",
    "root = Tk()\n",
    "root.geometry('300x400')\n",
    " \n",
    "fra = Frame(root,width=300,height=50)\n",
    "but = Button(root,text=\"EXIT\")\n",
    "fra2 = Frame(root,width=300,height=50)\n",
    "butL = Button(root,text=\"Large\")\n",
    "butM = Button(root,text=\"Medium\")\n",
    "butS = Button(root,text=\"Small\")\n",
    "\n",
    "fra.pack()\n",
    "\n",
    "fra2.pack()\n",
    "but.pack()\n",
    "butL.pack()\n",
    "butM.pack()\n",
    "butS.pack()\n",
    "\n",
    "\n",
    " \n",
    "fra.bind(\"<Button-1>\",color)\n",
    "but.bind(\"<Button-1>\",outgo)\n",
    "fra2.bind(\"<Button-1>\",color2)\n",
    "butL.bind(\"<Button-1>\", Large)\n",
    "butM.bind(\"<Button-1>\", Medium)\n",
    "butS.bind(\"<Button-1>\", Small)\n",
    " \n",
    "root.mainloop()"
   ]
  },
  {
   "cell_type": "markdown",
   "metadata": {},
   "source": [
    "We can set window's title as 'windowname.title()'"
   ]
  },
  {
   "cell_type": "markdown",
   "metadata": {},
   "source": [
    "How do we make our application to count clicks and display the result in window's title?"
   ]
  },
  {
   "cell_type": "code",
   "execution_count": 16,
   "metadata": {
    "collapsed": false
   },
   "outputs": [],
   "source": [
    "#Your code here -- window title"
   ]
  },
  {
   "cell_type": "markdown",
   "metadata": {},
   "source": [
    "<h1 style=\"color:red;\">Other Events</h1>"
   ]
  },
  {
   "cell_type": "markdown",
   "metadata": {},
   "source": [
    "Some other events with keyboard and mouse include:\n",
    "<ul>\n",
    "<li>\"Double-Button-1\" </li>\n",
    "<li>\"Motion\" </li>\n",
    "<li>\"Control-z\"</li>\n",
    "</ul>"
   ]
  },
  {
   "cell_type": "markdown",
   "metadata": {},
   "source": [
    "Here is an example of using them:"
   ]
  },
  {
   "cell_type": "code",
   "execution_count": 10,
   "metadata": {
    "collapsed": true
   },
   "outputs": [],
   "source": [
    "from tkinter import *\n",
    " \n",
    "def exit_(event):\n",
    "     root.destroy()\n",
    "def caption(event):\n",
    "     t = ent.get()\n",
    "     lbl.configure(text = t)\n",
    " \n",
    "root = Tk()\n",
    " \n",
    "ent = Entry(root, width = 40)\n",
    "lbl = Label(root, width = 80)\n",
    " \n",
    "ent.pack()\n",
    "lbl.pack()\n",
    " \n",
    "ent.bind('<Return>',caption)\n",
    "root.bind('<Control-z>',exit_)\n",
    " \n",
    "root.mainloop() "
   ]
  },
  {
   "cell_type": "markdown",
   "metadata": {},
   "source": [
    "In Trkinter we can also 'catch' coordinates, at which the mouse was clicked, and the character, which was pressed. This gives us wide opportunity to build graphic control."
   ]
  },
  {
   "cell_type": "code",
   "execution_count": 4,
   "metadata": {
    "collapsed": false
   },
   "outputs": [
    {
     "name": "stdout",
     "output_type": "stream",
     "text": [
      "clicked at 34 56\n"
     ]
    }
   ],
   "source": [
    "from tkinter import *\n",
    "\n",
    "root = Tk()\n",
    "\n",
    "def key(event):\n",
    "    print (\"pressed\", repr(event.char))\n",
    "\n",
    "def callback(event):\n",
    "    frame.focus_set()\n",
    "    print (\"clicked at\", event.x, event.y)\n",
    "\n",
    "frame = Frame(root, width=100, height=100)\n",
    "frame.bind(\"<Key>\", key)\n",
    "frame.bind(\"<Button-1>\", callback)\n",
    "frame.pack()\n",
    "\n",
    "root.mainloop()"
   ]
  },
  {
   "cell_type": "code",
   "execution_count": null,
   "metadata": {
    "collapsed": true
   },
   "outputs": [],
   "source": []
  }
 ],
 "metadata": {
  "anaconda-cloud": {},
  "kernelspec": {
   "display_name": "Python [default]",
   "language": "python",
   "name": "python3"
  },
  "language_info": {
   "codemirror_mode": {
    "name": "ipython",
    "version": 3
   },
   "file_extension": ".py",
   "mimetype": "text/x-python",
   "name": "python",
   "nbconvert_exporter": "python",
   "pygments_lexer": "ipython3",
   "version": "3.5.2"
  }
 },
 "nbformat": 4,
 "nbformat_minor": 1
}
