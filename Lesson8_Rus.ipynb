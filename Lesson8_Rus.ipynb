{
 "cells": [
  {
   "cell_type": "markdown",
   "metadata": {},
   "source": [
    "<h1 style=\"color:red;\">Пицца дня</h1>"
   ]
  },
  {
   "cell_type": "markdown",
   "metadata": {},
   "source": [
    "<img src=\"pizzadaily.png\" width=\"40%\">"
   ]
  },
  {
   "cell_type": "markdown",
   "metadata": {},
   "source": [
    "<i>Пиццерия Марио</i> готовит и развозит пиццу по округе. Марио, владелец пиццерии, хочет, чтобы его пиццы были каждый день разными. Ему нужна компьютерная программа, которая будет предлагать 3-4 <strong>разных</strong> Ингредиента каждый день. "
   ]
  },
  {
   "cell_type": "markdown",
   "metadata": {
    "collapsed": true
   },
   "source": [
    "Первый наш очевидный шаг - составить список популярных ингредиентов. И создать объект в Python:"
   ]
  },
  {
   "cell_type": "code",
   "execution_count": 6,
   "metadata": {
    "collapsed": true
   },
   "outputs": [],
   "source": [
    "topps = ['Пеперони', 'Сосики', 'Грибы', 'Сыр', 'Огурцы', 'Бекон', 'Ветчина','Ананас', 'Перец', 'Оливки']"
   ]
  },
  {
   "cell_type": "markdown",
   "metadata": {},
   "source": [
    "Теперь у нас есть список Python, который сождержит наиболее популярные ингредиенты. У каждого есть свой порядковый номер:"
   ]
  },
  {
   "cell_type": "code",
   "execution_count": 7,
   "metadata": {
    "collapsed": false
   },
   "outputs": [
    {
     "name": "stdout",
     "output_type": "stream",
     "text": [
      "The list contains 10 toppings\n",
      "['Пеперони', 'Сосики', 'Грибы', 'Сыр', 'Огурцы', 'Бекон', 'Ветчина', 'Ананас', 'Перец', 'Оливки']\n"
     ]
    }
   ],
   "source": [
    "print('The list contains', len(topps), 'toppings')\n",
    "print(topps)"
   ]
  },
  {
   "cell_type": "markdown",
   "metadata": {},
   "source": [
    "Правильное решение - использовать модуль <code>random</code> и его функцию <code>random.randint(a,b)<code>. Обратим внимание: нам нужны 10 случайных чисел, но ни одно не должно быть больше 9. И прежде, чем мы начнем использовать генератор случайных чисел, нам нужно будет <i>инициализировать его</i> с помощью функции <code>random.seed()</code> "
   ]
  },
  {
   "cell_type": "code",
   "execution_count": 8,
   "metadata": {
    "collapsed": false,
    "scrolled": true
   },
   "outputs": [
    {
     "name": "stdout",
     "output_type": "stream",
     "text": [
      "2 9 1 5 8 5 1 0 1 3 "
     ]
    }
   ],
   "source": [
    "import random\n",
    "random.seed()\n",
    "for i in range(10):\n",
    "    print(random.randint(0,9), end=' ')"
   ]
  },
  {
   "cell_type": "markdown",
   "metadata": {},
   "source": [
    "Но здесь нас поджидает проблема: случайные числа, на самом деле, не очень случайны! Они повторяются через короткий интервал. Каждый раз при запуске генератора он выдает 2-3 \"задвоения\". Это плохая новость для нас! Нам нужно, чтобы все ингредиенты были разными. Клиенты Марио не хотят покупать пиццы с \"двойными\" ингредиентами."
   ]
  },
  {
   "cell_type": "markdown",
   "metadata": {},
   "source": [
    "Что делать? Нам нужен набор <strong>уникальных</strong>, то есть, неповторяяющихся случайных чисел. Нам нужно использовать <strong>МНОЖЕСТВА</strong>."
   ]
  },
  {
   "cell_type": "markdown",
   "metadata": {},
   "source": [
    "Множеством называется собрание, совокупность, коллекция вещей, объединенных по какому-либо признаку или по какому-либо правилу. Понятие множества возникает путем абстракции. Рассматривая какую-либо совокупность предметов как множество, отвлекаются от всех связей и соотношений между различными предметами, составляющими множества, но сохраняют за предметами их индивидуальные черты. Таким образом, множество, состоящее из пяти монет, и множество, состоящее из пяти яблок, — это разные множества. С другой стороны, множество из пяти монет, расположенных по кругу, и множество из тех же монет, положенных одна на другую, — это одно и то же множество. Множество не может содержать двух и более одинаковых элементов."
   ]
  },
  {
   "cell_type": "markdown",
   "metadata": {},
   "source": [
    "<img src=\"setexample.png\" width=\"30%\">"
   ]
  },
  {
   "cell_type": "markdown",
   "metadata": {},
   "source": [
    "Множества используются во многих языках программирования. В Питоне множенство - это последовательность, элементы которой уникальны, но не пронумерованы. Мы не можем обратиться к элементу множества <i>номер три</i>."
   ]
  },
  {
   "cell_type": "markdown",
   "metadata": {},
   "source": [
    "Мы можем получить множество, например, из строки. Дополнитеельные элементы можно добавить позднее. Но если мы попытаемся добавить уже существующий элемент, множество его просто отвергнет! Дубли невозможны!"
   ]
  },
  {
   "cell_type": "code",
   "execution_count": 9,
   "metadata": {
    "collapsed": false
   },
   "outputs": [
    {
     "name": "stdout",
     "output_type": "stream",
     "text": [
      "{'т', 'в', 'ж', 'с', 'ч', 'о', 'г', 'е', 'я', 'р', 'ы', 'н', 'у', 'а', 'ю', 'э', 'м', 'п', 'ё', 'з', 'к', 'д', 'ц', 'щ', 'и', 'ф', 'б', 'л', 'й', 'ш', 'ъ', 'х', 'ь'}\n",
      "{'т', 'в', 'ж', 'с', 'ч', 'о', 'г', 'е', 'я', 'р', 'ы', 'н', 'у', 'а', 'ю', 'э', 'м', 'п', 'ё', 'з', 'к', 'д', 'ц', 'А', 'щ', 'и', 'ф', 'б', 'л', 'й', 'ш', 'ъ', 'х', 'ь'}\n"
     ]
    }
   ],
   "source": [
    "abcset = set('абвгдеёжзийклмнопрстуфхцчшщьыъэюя')\n",
    "print(abcset)\n",
    "abcset.add('А')\n",
    "print(abcset)"
   ]
  },
  {
   "cell_type": "code",
   "execution_count": 10,
   "metadata": {
    "collapsed": false
   },
   "outputs": [
    {
     "name": "stdout",
     "output_type": "stream",
     "text": [
      "34\n",
      "{'т', 'в', 'ж', 'с', 'ч', 'о', 'г', 'е', 'я', 'р', 'ы', 'н', 'у', 'а', 'ю', 'э', 'м', 'п', 'ё', 'з', 'к', 'д', 'ц', 'А', 'щ', 'и', 'ф', 'б', 'л', 'й', 'ш', 'ъ', 'х', 'ь'}\n",
      "34\n"
     ]
    }
   ],
   "source": [
    "print(len(abcset))\n",
    "abcset.add('а')\n",
    "print(abcset)\n",
    "print(len(abcset))"
   ]
  },
  {
   "cell_type": "markdown",
   "metadata": {},
   "source": [
    "Итак, теперь у нас есть инструмент для создания набора различных случайных чисел. И мы можем печь пиццы из различных ингредиентов."
   ]
  },
  {
   "cell_type": "markdown",
   "metadata": {},
   "source": [
    "Мы будем запускать генератор случайных чисел столько раз, сколько потребуется для создания множества из 4 различных случайных чисел."
   ]
  },
  {
   "cell_type": "code",
   "execution_count": 2,
   "metadata": {
    "collapsed": false
   },
   "outputs": [],
   "source": [
    "#Your code here!"
   ]
  },
  {
   "cell_type": "markdown",
   "metadata": {},
   "source": [
    "Теперь мы можем получить список ингредиентов на каждый новый день. Все, что нам нужно - выбирать названия ингредиентов из заранее заготовленного списка."
   ]
  },
  {
   "cell_type": "code",
   "execution_count": 1,
   "metadata": {
    "collapsed": false
   },
   "outputs": [],
   "source": [
    "#Your code here!"
   ]
  },
  {
   "cell_type": "markdown",
   "metadata": {},
   "source": [
    "А теперь соберем всю программу вместе, чтобы передать ее Марио:"
   ]
  },
  {
   "cell_type": "code",
   "execution_count": 3,
   "metadata": {
    "collapsed": false,
    "scrolled": true
   },
   "outputs": [],
   "source": [
    "#Your code here!"
   ]
  },
  {
   "cell_type": "markdown",
   "metadata": {},
   "source": [
    "А можно сделать программу еще полезнее и удобнее? Так, чтобы она заранее готовила список ингредиентов на всю неделю. Конечно можно! Прежде всего, нам понадобится список дней недели..."
   ]
  },
  {
   "cell_type": "code",
   "execution_count": 15,
   "metadata": {
    "collapsed": true
   },
   "outputs": [],
   "source": [
    "days = ['Понедельник', 'Вторник', 'Среда', 'Четверг', 'Пятница', 'Суббота', 'Воскресенье']"
   ]
  },
  {
   "cell_type": "code",
   "execution_count": 4,
   "metadata": {
    "collapsed": false
   },
   "outputs": [],
   "source": [
    "#Your code here!"
   ]
  },
  {
   "cell_type": "markdown",
   "metadata": {},
   "source": [
    "<h2 style=\"color:green;\">Поздравления и благодарность от Марио!</h2>\n",
    "Теперь Марио может приготовить новые, вкусные пиццы! Какую ты выбираешь?"
   ]
  },
  {
   "cell_type": "markdown",
   "metadata": {},
   "source": [
    "<img src='mariopizzeria.png' width=\"30%\">"
   ]
  },
  {
   "cell_type": "code",
   "execution_count": null,
   "metadata": {
    "collapsed": true
   },
   "outputs": [],
   "source": []
  }
 ],
 "metadata": {
  "kernelspec": {
   "display_name": "Python 3",
   "language": "python",
   "name": "python3"
  },
  "language_info": {
   "codemirror_mode": {
    "name": "ipython",
    "version": 3
   },
   "file_extension": ".py",
   "mimetype": "text/x-python",
   "name": "python",
   "nbconvert_exporter": "python",
   "pygments_lexer": "ipython3",
   "version": "3.4.3+"
  }
 },
 "nbformat": 4,
 "nbformat_minor": 0
}
