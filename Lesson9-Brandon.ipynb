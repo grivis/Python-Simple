{
 "cells": [
  {
   "cell_type": "markdown",
   "metadata": {},
   "source": [
    "<h1 style=\"color:red;\">Objects and Classes. Critter Game</h1>"
   ]
  },
  {
   "cell_type": "markdown",
   "metadata": {},
   "source": [
    "Programming is creating models of things, that exist around us in the real worls. Modelling becomes easier when we use object-oriented programming"
   ]
  },
  {
   "cell_type": "markdown",
   "metadata": {},
   "source": [
    "OOP (object-oriented programming) has a reputation for being complicated, but I think it’s actually simpler than some of\n",
    "the concepts you’ve already learned. In fact, OOP allows you to represent things in your pro-\n",
    "grams in a way that’s more like the real world.\n",
    "What you often want to represent in your programs—anything from a checking account to\n",
    "an alien spacecraft—are real-life objects. OOP lets you represent these real-life objects as soft-\n",
    "ware objects. Like real-life objects, software objects combine characteristics (called attributes\n",
    "in OOP-speak) and behaviors (called methods in OOP-speak). For example, if you were to create\n",
    "an alien spacecraft object, its attributes could include its location and energy level, while its\n",
    "methods could include its ability to move or fire its weapons."
   ]
  },
  {
   "cell_type": "markdown",
   "metadata": {},
   "source": [
    "Objects are created (or instantiated in OOP-speak) from a definition called a class—programming\n",
    "code that can define attributes and methods. Classes are like blueprints. A class isn’t an object,\n",
    "it’s a design for one. And just as a foreman can create many houses from the same blueprint,\n",
    "a programmer can create many objects from the same class. As a result, each object (also called\n",
    "an instance) instantiated from the same class will have a similar structure."
   ]
  },
  {
   "cell_type": "code",
   "execution_count": 3,
   "metadata": {
    "collapsed": false
   },
   "outputs": [],
   "source": [
    "# Simple Critter\n",
    "# Demonstrates a basic class and object\n",
    "class Critter(object):\n",
    "        \"\"\"A virtual pet\"\"\"\n",
    "        def talk(self):\n",
    "            print(\"Hi. I'm an instance of class Critter.\")\n",
    "        \n",
    "        def bark(self):\n",
    "            print(\"Woof Woof\")\n",
    "# main\n",
    "crit = Critter()"
   ]
  },
  {
   "cell_type": "code",
   "execution_count": 4,
   "metadata": {
    "collapsed": false
   },
   "outputs": [
    {
     "name": "stdout",
     "output_type": "stream",
     "text": [
      "Woof Woof\n"
     ]
    }
   ],
   "source": [
    "crit.bark()\n"
   ]
  },
  {
   "cell_type": "markdown",
   "metadata": {},
   "source": [
    "The Constructor Critter program defines a new Critter class that includes a simple constructor method. The program also shows how easy it is to create multiple objects from the same\n",
    "class."
   ]
  },
  {
   "cell_type": "code",
   "execution_count": 5,
   "metadata": {
    "collapsed": false
   },
   "outputs": [
    {
     "name": "stdout",
     "output_type": "stream",
     "text": [
      "A new critter has been born!\n",
      "A new critter has been born!\n",
      "\n",
      "Hi. I'm an instance of class Critter.\n",
      "\n",
      "Hi. I'm an instance of class Critter.\n"
     ]
    }
   ],
   "source": [
    "# Constructor Critter\n",
    "# Demonstrates constructors\n",
    "class Critter(object):\n",
    "    \"\"\"A virtual pet\"\"\"\n",
    "    def __init__(self):\n",
    "        print(\"A new critter has been born!\")\n",
    "    def talk(self):\n",
    "        print(\"\\nHi. I'm an instance of class Critter.\")\n",
    "# main\n",
    "crit1 = Critter()\n",
    "crit2 = Critter()\n",
    "crit1.talk()\n",
    "crit2.talk()"
   ]
  },
  {
   "cell_type": "markdown",
   "metadata": {},
   "source": [
    "The Attribute Critter program creates a new type of object with an attribute, name . The Critter class has a constructor method that creates and initializes name . The program uses the\n",
    "new attribute so that the critter can offer a more personalized greeting."
   ]
  },
  {
   "cell_type": "code",
   "execution_count": 7,
   "metadata": {
    "collapsed": false
   },
   "outputs": [
    {
     "name": "stdout",
     "output_type": "stream",
     "text": [
      "A new critter has been born!\n",
      "Hi. I'm Poochie \n",
      "\n",
      "A new critter has been born!\n",
      "Hi. I'm Randolph \n",
      "\n",
      "Critter object\n",
      "name: Poochie\n",
      "\n",
      "Critter object\n",
      "name: Randolph\n",
      "\n"
     ]
    }
   ],
   "source": [
    "class Critter(object):\n",
    "    \"\"\"A virtual pet\"\"\"\n",
    "    def __init__(self, name):\n",
    "        print(\"A new critter has been born!\")\n",
    "        self.name = name\n",
    "    def __str__(self):\n",
    "        rep = \"Critter object\\n\"\n",
    "        rep += \"name: \" + self.name + \"\\n\"\n",
    "        return rep\n",
    "    def talk(self):\n",
    "        print(\"Hi. I'm\", self.name, \"\\n\")\n",
    "# main\n",
    "crit1 = Critter(\"Poochie\")\n",
    "crit1.talk()\n",
    "crit2 = Critter(\"Randolph\")\n",
    "crit2.talk()\n",
    "print(crit1)\n",
    "print(crit2)\n"
   ]
  },
  {
   "cell_type": "markdown",
   "metadata": {},
   "source": [
    "Static attribute is an attribute, that belongs to the class, not to an object. Static method is a method, that uses such attribute"
   ]
  },
  {
   "cell_type": "code",
   "execution_count": 14,
   "metadata": {
    "collapsed": false
   },
   "outputs": [
    {
     "name": "stdout",
     "output_type": "stream",
     "text": [
      "\n",
      "The total number of critters is 0\n",
      "A new critter has been born!\n",
      "Hi. I'm Poochie \n",
      "\n",
      "A new critter has been born!\n",
      "Hi. I'm Randolph \n",
      "\n",
      "\n",
      "The total number of critters is 2\n"
     ]
    }
   ],
   "source": [
    "class Critter(object):\n",
    "    \"\"\"A virtual pet\"\"\"\n",
    "    total = 0\n",
    "    @staticmethod\n",
    "    def status():\n",
    "        print(\"\\nThe total number of critters is\", Critter.total)\n",
    "    def __init__(self, name):\n",
    "        print(\"A new critter has been born!\")\n",
    "        self.name = name\n",
    "        total = 1\n",
    "        Critter.total += 1\n",
    "    def __str__(self):\n",
    "        rep = \"Critter object\\n\"\n",
    "        rep += \"name: \" + self.name + \"\\n\"\n",
    "        return rep\n",
    "    def talk(self):\n",
    "        print(\"Hi. I'm\", self.name, \"\\n\")\n",
    "# main\n",
    "Critter.status()\n",
    "crit1 = Critter(\"Poochie\")\n",
    "crit1.talk()\n",
    "crit2 = Critter(\"Randolph\")\n",
    "crit2.talk()\n",
    "Critter.status()\n"
   ]
  },
  {
   "cell_type": "code",
   "execution_count": 15,
   "metadata": {
    "collapsed": false
   },
   "outputs": [
    {
     "name": "stdout",
     "output_type": "stream",
     "text": [
      "\n",
      "The total number of critters is 2\n",
      "\n",
      "The total number of critters is 2\n",
      "2\n",
      "\n",
      "The total number of critters is 2\n",
      "2\n"
     ]
    }
   ],
   "source": [
    "Critter.status()\n",
    "crit1.status()\n",
    "print(crit1.total)\n",
    "crit2.status()\n",
    "print(crit2.total)"
   ]
  },
  {
   "cell_type": "markdown",
   "metadata": {},
   "source": [
    "New attribute will show our critters' mood."
   ]
  },
  {
   "cell_type": "code",
   "execution_count": 16,
   "metadata": {
    "collapsed": true
   },
   "outputs": [],
   "source": [
    "class Critter(object):\n",
    "    \"\"\"A virtual pet\"\"\"\n",
    "    total = 0\n",
    "    @staticmethod\n",
    "    def status():\n",
    "        print(\"\\nThe total number of critters is\", Critter.total)\n",
    "    def __init__(self, name, mood='OK'):\n",
    "        print(\"A new critter has been born!\")\n",
    "        self.name = name\n",
    "        self.mood = mood\n",
    "    def __str__(self):\n",
    "        rep = \"Critter object\\n\"\n",
    "        rep += \"name: \" + self.name + \"\\n\"\n",
    "        return rep\n",
    "    def talk(self):\n",
    "        print(\"Hi. I'm\", self.name, \"\\n\")\n",
    "        print(\"Right now I feel\", self.mood, \"\\n\")\n",
    "# main"
   ]
  },
  {
   "cell_type": "code",
   "execution_count": 20,
   "metadata": {
    "collapsed": false
   },
   "outputs": [
    {
     "name": "stdout",
     "output_type": "stream",
     "text": [
      "A new critter has been born!\n",
      "A new critter has been born!\n"
     ]
    }
   ],
   "source": [
    "critnew = Critter('Rex')\n",
    "critagain = Critter('Jack')"
   ]
  },
  {
   "cell_type": "code",
   "execution_count": 23,
   "metadata": {
    "collapsed": false
   },
   "outputs": [
    {
     "name": "stdout",
     "output_type": "stream",
     "text": [
      "Hi. I'm Rex \n",
      "\n",
      "Right now I feel OK \n",
      "\n",
      "Hi. I'm Jack \n",
      "\n",
      "Right now I feel OK \n",
      "\n"
     ]
    }
   ],
   "source": [
    "critnew.talk()\n",
    "critagain.talk()"
   ]
  },
  {
   "cell_type": "markdown",
   "metadata": {},
   "source": [
    "Our critter needs to be fed and played with"
   ]
  },
  {
   "cell_type": "code",
   "execution_count": 24,
   "metadata": {
    "collapsed": true
   },
   "outputs": [],
   "source": [
    "class Critter(object):\n",
    "    \"\"\"A virtual pet\"\"\"\n",
    "    total = 0\n",
    "    @staticmethod\n",
    "    def status():\n",
    "        print(\"\\nThe total number of critters is\", Critter.total)\n",
    "    def __init__(self, name, mood='OK', hunger=0, boredom=0):\n",
    "        print(\"A new critter has been born!\")\n",
    "        self.name = name\n",
    "        self.mood = mood\n",
    "        self.hunger = hunger\n",
    "        self.boredom = boredom\n",
    "    def __str__(self):\n",
    "        rep = \"Critter object\\n\"\n",
    "        rep += \"name: \" + self.name + \"\\n\"\n",
    "        return rep\n",
    "    def talk(self):\n",
    "        print(\"Hi. I'm\", self.name, \"\\n\")\n",
    "        print(\"Right now I feel\", self.mood, \"\\n\")\n",
    "# main"
   ]
  },
  {
   "cell_type": "code",
   "execution_count": 25,
   "metadata": {
    "collapsed": false
   },
   "outputs": [
    {
     "name": "stdout",
     "output_type": "stream",
     "text": [
      "A new critter has been born!\n",
      "Hi. I'm Rex \n",
      "\n",
      "Right now I feel OK \n",
      "\n"
     ]
    }
   ],
   "source": [
    "crit = Critter('Rex')\n",
    "crit.talk()\n"
   ]
  },
  {
   "cell_type": "code",
   "execution_count": 27,
   "metadata": {
    "collapsed": false
   },
   "outputs": [],
   "source": [
    "#"
   ]
  },
  {
   "cell_type": "markdown",
   "metadata": {},
   "source": [
    "When time passes, our critter becomes hungry and is getting bored"
   ]
  },
  {
   "cell_type": "code",
   "execution_count": 30,
   "metadata": {
    "collapsed": true
   },
   "outputs": [],
   "source": [
    "def pass_time(self):\n",
    "    self.hunger += 1\n",
    "    self.boredom += 1"
   ]
  },
  {
   "cell_type": "code",
   "execution_count": null,
   "metadata": {
    "collapsed": true
   },
   "outputs": [],
   "source": [
    "class Critter(object):\n",
    "    \"\"\"A virtual pet\"\"\"\n",
    "    total = 0\n",
    "    @staticmethod\n",
    "    def status():\n",
    "        print(\"\\nThe total number of critters is\", Critter.total)\n",
    "    def __init__(self, name, mood='OK', hunger=0, boredom=0):\n",
    "        print(\"A new critter has been born!\")\n",
    "        self.name = name\n",
    "        self.mood = mood\n",
    "        self.hunger = hunger\n",
    "        self.boredom = boredom\n",
    "    def pass_time(self):\n",
    "            self.hunger += 1\n",
    "            self.boredom += 1\n",
    "    def __str__(self):\n",
    "        rep = \"Critter object\\n\"\n",
    "        rep += \"name: \" + self.name + \"\\n\"\n",
    "        return rep\n",
    "    def talk(self):\n",
    "        print(\"Hi. I'm\", self.name, \"\\n\")\n",
    "        print(\"Right now I feel\", self.mood, \"\\n\")\n",
    "        pass_time()\n",
    "# main"
   ]
  },
  {
   "cell_type": "markdown",
   "metadata": {},
   "source": [
    "The critter's mood changes as well:"
   ]
  },
  {
   "cell_type": "code",
   "execution_count": 32,
   "metadata": {
    "collapsed": false
   },
   "outputs": [],
   "source": [
    "def mood(self):\n",
    "    unhappiness = self.hunger + self.boredom\n",
    "    if unhappiness < 5:\n",
    "        m = \"happy\"\n",
    "    elif 5 <= unhappiness <= 10:\n",
    "        m = \"okay\"\n",
    "    elif 11 <= unhappiness <= 15:\n",
    "        m = \"frustrated\"\n",
    "    else:\n",
    "        m = \"mad\"\n",
    "    return m"
   ]
  },
  {
   "cell_type": "markdown",
   "metadata": {},
   "source": [
    "To keep our critter happy, it nedds to eat and to play"
   ]
  },
  {
   "cell_type": "code",
   "execution_count": 33,
   "metadata": {
    "collapsed": true
   },
   "outputs": [],
   "source": [
    "def eat(self, food = 4):\n",
    "    print(\"Brruppp.Thank you.\")\n",
    "    self.hunger -= food\n",
    "    if self.hunger < 0:\n",
    "        self.hunger = 0\n",
    "    self.pass_time()"
   ]
  },
  {
   "cell_type": "code",
   "execution_count": 34,
   "metadata": {
    "collapsed": true
   },
   "outputs": [],
   "source": [
    "def play(self, fun = 4):\n",
    "    print(\"Wheee!\")\n",
    "    self.boredom -= fun\n",
    "    if self.boredom < 0:\n",
    "        self.boredom = 0\n",
    "        self.pass_time()"
   ]
  },
  {
   "cell_type": "code",
   "execution_count": 35,
   "metadata": {
    "collapsed": true
   },
   "outputs": [],
   "source": [
    "#\n"
   ]
  },
  {
   "cell_type": "code",
   "execution_count": 36,
   "metadata": {
    "collapsed": true
   },
   "outputs": [],
   "source": [
    "#"
   ]
  },
  {
   "cell_type": "markdown",
   "metadata": {},
   "source": [
    "Now we can combine all parts together and create the menu for the game...\n",
    "Have fun!"
   ]
  },
  {
   "cell_type": "code",
   "execution_count": 38,
   "metadata": {
    "collapsed": true
   },
   "outputs": [],
   "source": [
    "class Critter(object):\n",
    "    \"\"\"A virtual pet\"\"\"\n",
    "    total = 0\n",
    "    @staticmethod\n",
    "    def status():\n",
    "        print(\"\\nThe total number of critters is\", Critter.total)\n",
    "    def __init__(self, name, mood='OK', hunger=0, boredom=0):\n",
    "        print(\"A new critter has been born!\")\n",
    "        self.name = name\n",
    "        self.mood = mood\n",
    "        self.hunger = hunger\n",
    "        self.boredom = boredom\n",
    "    def pass_time(self):\n",
    "        self.hunger += 1\n",
    "        self.boredom += 1\n",
    "    def mood(self):\n",
    "        unhappiness = self.hunger + self.boredom\n",
    "        if unhappiness < 5:\n",
    "            m = \"happy\"\n",
    "        elif 5 <= unhappiness <= 10:\n",
    "            m = \"okay\"\n",
    "        elif 11 <= unhappiness <= 15:\n",
    "            m = \"frustrated\"\n",
    "        else:\n",
    "            m = \"mad\"\n",
    "        return m\n",
    "    def pass_time(self):\n",
    "            self.hunger += 1\n",
    "            self.boredom += 1\n",
    "    def eat(self, food = 4):\n",
    "        print(\"Brruppp.Thank you.\")\n",
    "        self.hunger -= food\n",
    "        if self.hunger < 0:\n",
    "            self.hunger = 0\n",
    "        self.pass_time()\n",
    "    def play(self, fun = 4):\n",
    "        print(\"Wheee!\")\n",
    "        self.boredom -= fun\n",
    "        if self.boredom < 0:\n",
    "            self.boredom = 0\n",
    "        self.pass_time()\n",
    "    def __str__(self):\n",
    "        rep = \"Critter object\\n\"\n",
    "        rep += \"name: \" + self.name + \"\\n\"\n",
    "        return rep\n",
    "    def talk(self):\n",
    "        print(\"Hi. I'm\", self.name, \"\\n\")\n",
    "        print(\"Right now I feel\", self.mood, \"\\n\")\n",
    "        self.pass_time()\n",
    "# main"
   ]
  },
  {
   "cell_type": "code",
   "execution_count": 39,
   "metadata": {
    "collapsed": false
   },
   "outputs": [
    {
     "name": "stdout",
     "output_type": "stream",
     "text": [
      "A new critter has been born!\n"
     ]
    }
   ],
   "source": [
    "crit = Critter('Randolph')"
   ]
  },
  {
   "cell_type": "code",
   "execution_count": 35,
   "metadata": {
    "collapsed": false
   },
   "outputs": [
    {
     "name": "stdout",
     "output_type": "stream",
     "text": [
      "Hi. I'm Randolph \n",
      "\n",
      "Right now I feel OK \n",
      "\n"
     ]
    },
    {
     "ename": "NameError",
     "evalue": "name 'pass_time' is not defined",
     "output_type": "error",
     "traceback": [
      "\u001b[0;31m---------------------------------------------------------------------------\u001b[0m",
      "\u001b[0;31mNameError\u001b[0m                                 Traceback (most recent call last)",
      "\u001b[0;32m<ipython-input-35-13da9b5c7c8f>\u001b[0m in \u001b[0;36m<module>\u001b[0;34m()\u001b[0m\n\u001b[0;32m----> 1\u001b[0;31m \u001b[0mcrit\u001b[0m\u001b[0;34m.\u001b[0m\u001b[0mtalk\u001b[0m\u001b[0;34m(\u001b[0m\u001b[0;34m)\u001b[0m\u001b[0;34m\u001b[0m\u001b[0m\n\u001b[0m",
      "\u001b[0;32m<ipython-input-31-ad7c36211e39>\u001b[0m in \u001b[0;36mtalk\u001b[0;34m(self)\u001b[0m\n\u001b[1;32m     47\u001b[0m         \u001b[0mprint\u001b[0m\u001b[0;34m(\u001b[0m\u001b[0;34m\"Hi. I'm\"\u001b[0m\u001b[0;34m,\u001b[0m \u001b[0mself\u001b[0m\u001b[0;34m.\u001b[0m\u001b[0mname\u001b[0m\u001b[0;34m,\u001b[0m \u001b[0;34m\"\\n\"\u001b[0m\u001b[0;34m)\u001b[0m\u001b[0;34m\u001b[0m\u001b[0m\n\u001b[1;32m     48\u001b[0m         \u001b[0mprint\u001b[0m\u001b[0;34m(\u001b[0m\u001b[0;34m\"Right now I feel\"\u001b[0m\u001b[0;34m,\u001b[0m \u001b[0mself\u001b[0m\u001b[0;34m.\u001b[0m\u001b[0mmood\u001b[0m\u001b[0;34m,\u001b[0m \u001b[0;34m\"\\n\"\u001b[0m\u001b[0;34m)\u001b[0m\u001b[0;34m\u001b[0m\u001b[0m\n\u001b[0;32m---> 49\u001b[0;31m         \u001b[0mpass_time\u001b[0m\u001b[0;34m(\u001b[0m\u001b[0;34m)\u001b[0m\u001b[0;34m\u001b[0m\u001b[0m\n\u001b[0m\u001b[1;32m     50\u001b[0m \u001b[0;31m# main\u001b[0m\u001b[0;34m\u001b[0m\u001b[0;34m\u001b[0m\u001b[0m\n",
      "\u001b[0;31mNameError\u001b[0m: name 'pass_time' is not defined"
     ]
    }
   ],
   "source": [
    "crit.talk()"
   ]
  },
  {
   "cell_type": "code",
   "execution_count": null,
   "metadata": {
    "collapsed": true
   },
   "outputs": [],
   "source": []
  }
 ],
 "metadata": {
  "anaconda-cloud": {},
  "kernelspec": {
   "display_name": "Python [default]",
   "language": "python",
   "name": "python3"
  },
  "language_info": {
   "codemirror_mode": {
    "name": "ipython",
    "version": 3
   },
   "file_extension": ".py",
   "mimetype": "text/x-python",
   "name": "python",
   "nbconvert_exporter": "python",
   "pygments_lexer": "ipython3",
   "version": "3.5.2"
  }
 },
 "nbformat": 4,
 "nbformat_minor": 1
}
