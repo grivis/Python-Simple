{
 "cells": [
  {
   "cell_type": "markdown",
   "metadata": {},
   "source": [
    "<h1 style=\"color:red;\">Cловари в Питоне. Часть первая</h1>"
   ]
  },
  {
   "cell_type": "markdown",
   "metadata": {},
   "source": [
    "Словари в языке программирования Питон очень похожи на словари человеческих языков. Зная слово (называемое ключом) в одном языке, можно найти его значение в другом языке. Например, английское слово Table, можно найти в словаре испанское слово Mesa."
   ]
  },
  {
   "cell_type": "markdown",
   "metadata": {},
   "source": [
    "В языке Питон ключами и значениями могут быть не только строки, но и числа, кортежи, списки... Однако строки используются чаще всего"
   ]
  },
  {
   "cell_type": "code",
   "execution_count": 1,
   "metadata": {
    "collapsed": true
   },
   "outputs": [],
   "source": [
    "DaysDic = {}"
   ]
  },
  {
   "cell_type": "markdown",
   "metadata": {},
   "source": [
    "Мы определили пустой словарь, в котором хотим поместить названия дней недели и их номера:"
   ]
  },
  {
   "cell_type": "code",
   "execution_count": 7,
   "metadata": {
    "collapsed": true
   },
   "outputs": [],
   "source": [
    "DaysDic[1] = 'Monday'\n",
    "DaysDic[2] = 'Tuesday'"
   ]
  },
  {
   "cell_type": "markdown",
   "metadata": {},
   "source": [
    "Теперь мы можем получить название дня по его номеру:"
   ]
  },
  {
   "cell_type": "code",
   "execution_count": 8,
   "metadata": {
    "collapsed": false
   },
   "outputs": [
    {
     "name": "stdout",
     "output_type": "stream",
     "text": [
      "Tuesday\n"
     ]
    }
   ],
   "source": [
    "print(DaysDic[2])"
   ]
  },
  {
   "cell_type": "markdown",
   "metadata": {},
   "source": [
    "Словарь, таким образом состоит из пар key:value. Словарь может быть 'собран' из двух списков с помощью функций zip() и dict()"
   ]
  },
  {
   "cell_type": "code",
   "execution_count": 13,
   "metadata": {
    "collapsed": true
   },
   "outputs": [],
   "source": [
    "nums = [1, 2, 3, 4, 5, 6, 7]\n",
    "days = ['Monday', 'Tuesday', 'Wednesday', 'Thursday', 'Friday', 'Saturday', 'Sunday']"
   ]
  },
  {
   "cell_type": "code",
   "execution_count": 14,
   "metadata": {
    "collapsed": false
   },
   "outputs": [],
   "source": [
    "DaysDic = dict(zip(days, nums))"
   ]
  },
  {
   "cell_type": "code",
   "execution_count": 15,
   "metadata": {
    "collapsed": false
   },
   "outputs": [
    {
     "name": "stdout",
     "output_type": "stream",
     "text": [
      "{'Friday': 5, 'Wednesday': 3, 'Thursday': 4, 'Sunday': 7, 'Tuesday': 2, 'Saturday': 6, 'Monday': 1}\n"
     ]
    }
   ],
   "source": [
    "print(DaysDic)"
   ]
  },
  {
   "cell_type": "markdown",
   "metadata": {},
   "source": [
    "А как нам получить \"обратный\" словарь, чтобы по названию дня недели получить его номер?"
   ]
  },
  {
   "cell_type": "code",
   "execution_count": 18,
   "metadata": {
    "collapsed": false
   },
   "outputs": [
    {
     "name": "stdout",
     "output_type": "stream",
     "text": [
      "7\n"
     ]
    }
   ],
   "source": [
    "print(DaysDic['Sunday'])"
   ]
  },
  {
   "cell_type": "markdown",
   "metadata": {},
   "source": [
    "Словари можно использовать для автоматического перевода слов с одного человеческого языка на другой. Например, названия дней недели:"
   ]
  },
  {
   "cell_type": "code",
   "execution_count": 22,
   "metadata": {
    "collapsed": true
   },
   "outputs": [],
   "source": [
    "english = ['monday', 'tuesday', 'wednesday', 'thirsday', 'friday', 'saturday', 'sunday']\n",
    "russian = ['понедельник', 'вторник', 'среда', 'четверг', 'пятница', 'суббота', 'воскресенье']\n",
    "spanish = ['lunes', 'martes', 'miércoles', 'jueves','viernes', 'sábado', 'domingo']\n",
    "greek = ['Δευτέρα', 'Τρίτη', 'Τετάρτη', 'Πέμπτη', 'Παρασκευή', 'Σάββατο', 'Κυριακή']"
   ]
  },
  {
   "cell_type": "markdown",
   "metadata": {},
   "source": [
    "Как нам создать теперь словарь, переводящий английсккие названия дней недели на греческие?"
   ]
  },
  {
   "cell_type": "code",
   "execution_count": 23,
   "metadata": {
    "collapsed": false
   },
   "outputs": [
    {
     "name": "stdout",
     "output_type": "stream",
     "text": [
      "{'saturday': 'Σάββατο', 'tuesday': 'Τρίτη', 'wednesday': 'Τετάρτη', 'thirsday': 'Πέμπτη', 'sunday': 'Κυριακή', 'monday': 'Δευτέρα', 'friday': 'Παρασκευή'}\n"
     ]
    }
   ],
   "source": [
    "DaysDic = dict(zip(english, greek))\n",
    "print(DaysDic)\n"
   ]
  },
  {
   "cell_type": "markdown",
   "metadata": {},
   "source": [
    "А теперь испанские названия - на русские?"
   ]
  },
  {
   "cell_type": "code",
   "execution_count": 24,
   "metadata": {
    "collapsed": false
   },
   "outputs": [
    {
     "name": "stdout",
     "output_type": "stream",
     "text": [
      "{'saturday': 'sábado', 'tuesday': 'martes', 'wednesday': 'miércoles', 'thirsday': 'jueves', 'sunday': 'domingo', 'monday': 'lunes', 'friday': 'viernes'}\n"
     ]
    }
   ],
   "source": [
    "english = ['monday', 'tuesday', 'wednesday', 'thirsday', 'friday', 'saturday', 'sunday']\n",
    "spanish = ['lunes', 'martes', 'miércoles', 'jueves','viernes', 'sábado', 'domingo']\n",
    "DaysDic = dict(zip(english, spanish))\n",
    "print(DaysDic)"
   ]
  },
  {
   "cell_type": "markdown",
   "metadata": {},
   "source": [
    "Словари можно использовать для шифрования текста. Например, заменить каждую букву в тексте на какую-то другую букву. Тогда текст станет нечитаемым для посторонних. Но если знать, какие буквы на какие мы меняли, можно сделать обратное преобразование. И тогда текст снова станет читаемым."
   ]
  },
  {
   "cell_type": "markdown",
   "metadata": {},
   "source": [
    "Сначала создадим словарь для шифрования текста: замены исходных букв на другие"
   ]
  },
  {
   "cell_type": "code",
   "execution_count": 30,
   "metadata": {
    "collapsed": false,
    "scrolled": true
   },
   "outputs": [
    {
     "name": "stdout",
     "output_type": "stream",
     "text": [
      "{' ': ' ', 'm': 'ν', 'i': 'ι', 'x': 'ω', 'v': 'χ', 'h': 'θ', 'w': 'ψ', 'r': 'σ', 't': 'υ', 'n': 'ξ', 'l': 'μ', 'd': 'δ', 'q': 'ρ', 'a': 'α', 'c': 'γ', 'p': 'π', 'u': 'ϕ', 'k': 'λ', 'f': 'ζ', 'g': 'η', 'e': 'ϵ', 'z': 'Ω', 'y': 'Ψ', 's': 'τ', 'b': 'β', 'j': 'κ', 'o': 'ο', ',': ','}\n"
     ]
    }
   ],
   "source": [
    "\n",
    "gre = 'αβγδϵζηθικλμνξοπρστυϕχψωΨΩ ,'\n",
    "eng = 'abcdefghijklmnopqrstuvwxyz ,'\n",
    "Letterdic = dict(zip(eng, gre))\n",
    "print(Letterdic)\n",
    "#Rest of the code"
   ]
  },
  {
   "cell_type": "markdown",
   "metadata": {},
   "source": [
    "А теперь напишем программу, которая зашифрует строку исходного текста."
   ]
  },
  {
   "cell_type": "code",
   "execution_count": 31,
   "metadata": {
    "collapsed": false
   },
   "outputs": [
    {
     "name": "stdout",
     "output_type": "stream",
     "text": [
      "υθιτ υϵωυ ιτ ξοψ σϵαδαβμϵ, βϵγαϕτϵ ιυ ιτ ξου ϵξγσΨπυϵδ"
     ]
    }
   ],
   "source": [
    "text = 'this text is now readable, because it is not encrypted'\n",
    "for letter in text:\n",
    "    print(Letterdic[letter], end='')\n",
    "\n",
    "    "
   ]
  },
  {
   "cell_type": "markdown",
   "metadata": {},
   "source": [
    "А теперь нужен словарь и программный код для расшифровки зашифрованного текста"
   ]
  },
  {
   "cell_type": "code",
   "execution_count": 32,
   "metadata": {
    "collapsed": false
   },
   "outputs": [
    {
     "name": "stdout",
     "output_type": "stream",
     "text": [
      "this text is now readable, because it is not encrypted"
     ]
    }
   ],
   "source": [
    "gre = 'αβγδϵζηθικλμνξοπρστυϕχψωΨΩ ,'\n",
    "eng = 'abcdefghijklmnopqrstuvwxyz ,'\n",
    "Letterdic = dict(zip(gre, eng))\n",
    "\n",
    "text = 'υθιτ υϵωυ ιτ ξοψ σϵαδαβμϵ, βϵγαϕτϵ ιυ ιτ ξου ϵξγσΨπυϵδ'\n",
    "for letter in text:\n",
    "    print(Letterdic[letter], end='')"
   ]
  },
  {
   "cell_type": "markdown",
   "metadata": {},
   "source": [
    "<h2 style=\"color:red;\">Вот и все на сегодня!</h2>"
   ]
  },
  {
   "cell_type": "code",
   "execution_count": null,
   "metadata": {
    "collapsed": true
   },
   "outputs": [],
   "source": []
  }
 ],
 "metadata": {
  "kernelspec": {
   "display_name": "Python 3",
   "language": "python",
   "name": "python3"
  },
  "language_info": {
   "codemirror_mode": {
    "name": "ipython",
    "version": 3
   },
   "file_extension": ".py",
   "mimetype": "text/x-python",
   "name": "python",
   "nbconvert_exporter": "python",
   "pygments_lexer": "ipython3",
   "version": "3.4.3+"
  }
 },
 "nbformat": 4,
 "nbformat_minor": 1
}
